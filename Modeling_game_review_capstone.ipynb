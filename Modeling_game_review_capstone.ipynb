{
  "nbformat": 4,
  "nbformat_minor": 0,
  "metadata": {
    "colab": {
      "name": "Modeling - game review capstone.ipynb",
      "provenance": [],
      "machine_shape": "hm",
      "toc_visible": true,
      "collapsed_sections": []
    },
    "kernelspec": {
      "name": "python3",
      "display_name": "Python 3"
    },
    "language_info": {
      "name": "python"
    }
  },
  "cells": [
    {
      "cell_type": "markdown",
      "source": [
        "# Modeling step"
      ],
      "metadata": {
        "id": "oP-1O_le2BwA"
      }
    },
    {
      "cell_type": "markdown",
      "source": [
        "# Import tools"
      ],
      "metadata": {
        "id": "Ul7kTU9-2EVv"
      }
    },
    {
      "cell_type": "code",
      "source": [
        "import pandas as pd\n",
        "import numpy as np\n",
        "import matplotlib\n",
        "import matplotlib.pyplot as plt\n",
        "import seaborn as sns\n",
        "\n",
        "from scipy import sparse\n",
        "\n",
        "from sklearn import decomposition\n",
        "from sklearn import metrics\n",
        "from sklearn.metrics import pairwise_distances\n",
        "from sklearn.cluster import KMeans\n",
        "from sklearn.decomposition import NMF\n",
        "from sklearn.decomposition import LatentDirichletAllocation"
      ],
      "metadata": {
        "id": "OnNwWgj8FbCZ"
      },
      "execution_count": 1,
      "outputs": []
    },
    {
      "cell_type": "markdown",
      "source": [
        "# Import data"
      ],
      "metadata": {
        "id": "xCykZTSZ2Gm_"
      }
    },
    {
      "cell_type": "code",
      "source": [
        "game_ratings = pd.read_csv(\n",
        "    \"/content/drive/MyDrive/Springboard DS/data/cleaned_game_ratings.csv\",\n",
        "    index_col=0)\n",
        "\n",
        "bigram_count_mtx = sparse.load_npz(\n",
        "    \"/content/drive/MyDrive/Springboard DS/data/bigram_count_mtx.npz\")\n",
        "bigram_count_mtx_test = sparse.load_npz(\n",
        "    \"/content/drive/MyDrive/Springboard DS/data/bigram_count_mtx_test.npz\")\n",
        "\n",
        "trigram_count_mtx = sparse.load_npz(\n",
        "    \"/content/drive/MyDrive/Springboard DS/data/trigram_count_mtx.npz\")\n",
        "trigram_count_mtx_test = sparse.load_npz(\n",
        "    \"/content/drive/MyDrive/Springboard DS/data/trigram_count_mtx_test.npz\")\n",
        "\n",
        "bigram_freq_mtx = sparse.load_npz(\n",
        "    \"/content/drive/MyDrive/Springboard DS/data/bigram_freq_mtx.npz\")\n",
        "bigram_freq_mtx_test = sparse.load_npz(\n",
        "    \"/content/drive/MyDrive/Springboard DS/data/bigram_freq_mtx_test.npz\")\n",
        "\n",
        "trigram_freq_mtx = sparse.load_npz(\n",
        "    \"/content/drive/MyDrive/Springboard DS/data/trigram_freq_mtx.npz\")\n",
        "trigram_freq_mtx_test = sparse.load_npz(\n",
        "    \"/content/drive/MyDrive/Springboard DS/data/trigram_freq_mtx_test.npz\")\n",
        "\n",
        "bigram_columns = np.load(\n",
        "    \"/content/drive/MyDrive/Springboard DS/data/bigram_columns.npy\",\n",
        "    allow_pickle=True)\n",
        "\n",
        "trigram_columns = np.load(\n",
        "    \"/content/drive/MyDrive/Springboard DS/data/trigram_columns.npy\",\n",
        "    allow_pickle=True)\n",
        "\n",
        "y_train = pd.read_csv(\n",
        "    \"/content/drive/MyDrive/Springboard DS/data/y_train.csv\", index_col=0)\n",
        "y_test = pd.read_csv(\n",
        "    \"/content/drive/MyDrive/Springboard DS/data/y_test.csv\", index_col=0)"
      ],
      "metadata": {
        "id": "YuDyKizx28lH"
      },
      "execution_count": 2,
      "outputs": []
    },
    {
      "cell_type": "markdown",
      "source": [
        "# Distance measures"
      ],
      "metadata": {
        "id": "cJKLBUS22Iff"
      }
    },
    {
      "cell_type": "markdown",
      "source": [
        "## Binary matrix"
      ],
      "metadata": {
        "id": "ROyPK9cI2Qcj"
      }
    },
    {
      "cell_type": "markdown",
      "source": [
        "### Hamming distance"
      ],
      "metadata": {
        "id": "ZgYTTsf22enT"
      }
    },
    {
      "cell_type": "code",
      "source": [
        "hamming_bigrams = pairwise_distances(bigram_count_mtx.toarray(), metric='hamming')\n",
        "hamming_trigrams = pairwise_distances(trigram_count_mtx.toarray(), metric='hamming')\n",
        "\n",
        "hamming_bigrams_test = pairwise_distances(X=bigram_count_mtx_test.toarray(), metric='hamming')\n",
        "hamming_trigrams_test = pairwise_distances(X=trigram_count_mtx_test.toarray(), metric='hamming')"
      ],
      "metadata": {
        "id": "yCYSzOMEFo9F"
      },
      "execution_count": null,
      "outputs": []
    },
    {
      "cell_type": "markdown",
      "source": [
        "### Jaccard index"
      ],
      "metadata": {
        "id": "1u9CWqwG2hDG"
      }
    },
    {
      "cell_type": "code",
      "source": [
        "jaccard_bigrams = pairwise_distances(X=bigram_count_mtx.toarray(), metric='jaccard')\n",
        "jaccard_trigrams = pairwise_distances(X=trigram_count_mtx.toarray(), metric='jaccard')\n",
        "\n",
        "jaccard_bigrams_test = pairwise_distances(X=bigram_count_mtx_test.toarray(), metric='jaccard')\n",
        "jaccard_trigrams_test = pairwise_distances(X=trigram_count_mtx_test.toarray(), metric='jaccard')"
      ],
      "metadata": {
        "id": "ghAOjpesJr4B"
      },
      "execution_count": null,
      "outputs": []
    },
    {
      "cell_type": "markdown",
      "source": [
        "## Continuous matrix"
      ],
      "metadata": {
        "id": "Dc9usdpw2av8"
      }
    },
    {
      "cell_type": "markdown",
      "source": [
        "### Euclidean distance"
      ],
      "metadata": {
        "id": "Dz0x9D_y2jxD"
      }
    },
    {
      "cell_type": "code",
      "source": [
        "eucl_bigrams = pairwise_distances(X=bigram_freq_mtx, metric='euclidean')\n",
        "eucl_trigrams = pairwise_distances(X=trigram_freq_mtx, metric='euclidean')\n",
        "\n",
        "eucl_bigrams_test = pairwise_distances(\n",
        "    X=bigram_freq_mtx_test, metric='euclidean')\n",
        "eucl_trigrams_test = pairwise_distances(\n",
        "    X=trigram_freq_mtx_test, metric='euclidean')"
      ],
      "metadata": {
        "id": "tZFgesg4o-Ph"
      },
      "execution_count": null,
      "outputs": []
    },
    {
      "cell_type": "markdown",
      "source": [
        "### Cosine similarity"
      ],
      "metadata": {
        "id": "05f1SmB_2kJb"
      }
    },
    {
      "cell_type": "code",
      "source": [
        "cosine_bigrams = pairwise_distances(X=bigram_freq_mtx, metric='cosine')\n",
        "cosine_trigrams = pairwise_distances(X=trigram_freq_mtx, metric='cosine')\n",
        "\n",
        "cosine_bigrams_test = pairwise_distances(X=bigram_freq_mtx_test, metric='cosine')\n",
        "cosine_trigrams_test = pairwise_distances(X=trigram_freq_mtx_test, metric='cosine')"
      ],
      "metadata": {
        "id": "YX8DHKLOpQ8z"
      },
      "execution_count": null,
      "outputs": []
    },
    {
      "cell_type": "markdown",
      "source": [
        "# Clustering: K-Means"
      ],
      "metadata": {
        "id": "4zDMCHd_2K4g"
      }
    },
    {
      "cell_type": "markdown",
      "source": [
        "## Calculate clusters using the elbow method for bigrams"
      ],
      "metadata": {
        "id": "AIYP5VZJpQNk"
      }
    },
    {
      "cell_type": "code",
      "source": [
        "distortions = []\n",
        "K = range(1,20)\n",
        "\n",
        "for k in K:\n",
        "    kmean_model = KMeans(n_clusters=k)\n",
        "    kmean_model.fit(bigram_count_mtx)\n",
        "    distortions.append(kmean_model.inertia_)\n",
        "\n",
        "# Plot the elbow\n",
        "fig = plt.figure(figsize=(15, 5))\n",
        "plt.plot(range(1, 20), distortions)\n",
        "plt.grid(b=True, which='both')\n",
        "plt.minorticks_on()\n",
        "plt.title('Elbow curve for bigrams')"
      ],
      "metadata": {
        "colab": {
          "base_uri": "https://localhost:8080/",
          "height": 354
        },
        "id": "GajSiYpHpgJN",
        "outputId": "0a791151-6b17-49b3-df2e-7b6cdec17622"
      },
      "execution_count": 3,
      "outputs": [
        {
          "output_type": "execute_result",
          "data": {
            "text/plain": [
              "Text(0.5, 1.0, 'Elbow curve for bigrams')"
            ]
          },
          "metadata": {},
          "execution_count": 3
        },
        {
          "output_type": "display_data",
          "data": {
            "text/plain": [
              "<Figure size 1080x360 with 1 Axes>"
            ],
            "image/png": "[encoded data removed]"
          },
          "metadata": {
            "needs_background": "light"
          }
        }
      ]
    },
    {
      "cell_type": "markdown",
      "source": [
        "## Calculate cluster number for trigrams using elbow method"
      ],
      "metadata": {
        "id": "gSHQmwAqr-ap"
      }
    },
    {
      "cell_type": "code",
      "source": [
        "distortions = []\n",
        "K = range(1,20)\n",
        "\n",
        "for k in K:\n",
        "    kmean_model = KMeans(n_clusters=k)\n",
        "    kmean_model.fit(trigram_count_mtx)\n",
        "    distortions.append(kmean_model.inertia_)\n",
        "\n",
        "# Plot the elbow\n",
        "fig = plt.figure(figsize=(15, 5))\n",
        "plt.plot(range(1, 20), distortions)\n",
        "plt.grid(b=True, which='both')\n",
        "plt.minorticks_on()\n",
        "plt.title('Elbow curve for trigrams')"
      ],
      "metadata": {
        "colab": {
          "base_uri": "https://localhost:8080/",
          "height": 354
        },
        "id": "ID0nomvrsKNs",
        "outputId": "8e764219-19c5-418d-fe6b-c5287d7cc0f0"
      },
      "execution_count": 4,
      "outputs": [
        {
          "output_type": "execute_result",
          "data": {
            "text/plain": [
              "Text(0.5, 1.0, 'Elbow curve for trigrams')"
            ]
          },
          "metadata": {},
          "execution_count": 4
        },
        {
          "output_type": "display_data",
          "data": {
            "text/plain": [
              "<Figure size 1080x360 with 1 Axes>"
            ],
            "image/png": "[encoded data removed]"
          },
          "metadata": {
            "needs_background": "light"
          }
        }
      ]
    },
    {
      "cell_type": "markdown",
      "source": [
        "## Create variables for cluster counts"
      ],
      "metadata": {
        "id": "MQSz3Ej5KPQa"
      }
    },
    {
      "cell_type": "code",
      "source": [
        "bigram_clusters = 6  # from elbow method above\n",
        "trigram_clusters = 3 # from elbow method above"
      ],
      "metadata": {
        "id": "ZNbkvOxFKU0d"
      },
      "execution_count": 6,
      "outputs": []
    },
    {
      "cell_type": "markdown",
      "source": [
        "## Set up KMeans on count matrix"
      ],
      "metadata": {
        "id": "Pxhe7O5_rKYr"
      }
    },
    {
      "cell_type": "code",
      "source": [
        "bigrams_count_kmeans = KMeans(n_clusters=bigram_clusters,\n",
        "                              init='k-means++',\n",
        "                              random_state=42)\n",
        "\n",
        "trigrams_count_kmeans = KMeans(n_clusters=trigram_clusters,\n",
        "                               init='k-means++',\n",
        "                               random_state=42)\n",
        "\n",
        "bigram_count_assn = bigrams_count_kmeans.fit_predict(bigram_count_mtx)\n",
        "trigram_count_assn = trigrams_count_kmeans.fit_predict(trigram_count_mtx)"
      ],
      "metadata": {
        "id": "X0RQsexbp__5"
      },
      "execution_count": 7,
      "outputs": []
    },
    {
      "cell_type": "markdown",
      "source": [
        "### Run PCA to reduce components"
      ],
      "metadata": {
        "id": "b5qliDEjIvB2"
      }
    },
    {
      "cell_type": "code",
      "source": [
        "bigram_pca = decomposition.PCA(n_components=2)\n",
        "bigram_pca_fitted = bigram_pca.fit(bigram_count_mtx.toarray())\n",
        "\n",
        "bigram_pca_fitted.explained_variance_ratio_"
      ],
      "metadata": {
        "colab": {
          "base_uri": "https://localhost:8080/"
        },
        "id": "6VJmvBEI5NU-",
        "outputId": "ae60a0b9-102c-4eee-821b-fa8f2019ecf5"
      },
      "execution_count": 8,
      "outputs": [
        {
          "output_type": "execute_result",
          "data": {
            "text/plain": [
              "array([0.02480294, 0.01155077])"
            ]
          },
          "metadata": {},
          "execution_count": 8
        }
      ]
    },
    {
      "cell_type": "code",
      "source": [
        "bigram_pca_transformed = bigram_pca.transform(bigram_count_mtx.toarray())\n",
        "\n",
        "bigram_pc1, bigram_pc2 = zip(*bigram_pca_transformed)"
      ],
      "metadata": {
        "id": "B_B5t-G09IMA"
      },
      "execution_count": 9,
      "outputs": []
    },
    {
      "cell_type": "markdown",
      "source": [
        "### Plot PCA components"
      ],
      "metadata": {
        "id": "JgVXGcDWJy3t"
      }
    },
    {
      "cell_type": "code",
      "source": [
        "cmap = matplotlib.colors.ListedColormap(['red', 'green'])\n",
        "\n",
        "plt.scatter(bigram_pc1, bigram_pc2, c=bigram_count_assn.tolist(), cmap=cmap, alpha=0.3)"
      ],
      "metadata": {
        "colab": {
          "base_uri": "https://localhost:8080/",
          "height": 283
        },
        "id": "gmObqrde9P7L",
        "outputId": "9461d1c3-67f6-429f-cd30-0a96d0e2f61a"
      },
      "execution_count": 10,
      "outputs": [
        {
          "output_type": "execute_result",
          "data": {
            "text/plain": [
              "<matplotlib.collections.PathCollection at 0x7faf46f18b50>"
            ]
          },
          "metadata": {},
          "execution_count": 10
        },
        {
          "output_type": "display_data",
          "data": {
            "text/plain": [
              "<Figure size 432x288 with 1 Axes>"
            ],
            "image/png": "[encoded data removed]"
          },
          "metadata": {
            "needs_background": "light"
          }
        }
      ]
    },
    {
      "cell_type": "markdown",
      "source": [
        "### Create dataframe of bigrams cluster IDs and ratings"
      ],
      "metadata": {
        "id": "oGscQhmz2RBk"
      }
    },
    {
      "cell_type": "code",
      "source": [
        "bigram_cluster_df = pd.DataFrame(\n",
        "    {\"cluster\": bigrams_count_kmeans.predict(bigram_count_mtx),\n",
        "     \"rating\": np.array(y_train['rating'])})\n",
        "\n",
        "bigram_cluster_df.head(5)"
      ],
      "metadata": {
        "colab": {
          "base_uri": "https://localhost:8080/",
          "height": 206
        },
        "id": "xEAXxoXw2TtV",
        "outputId": "beecd91c-a622-4f13-e479-1b42496fe642"
      },
      "execution_count": 11,
      "outputs": [
        {
          "output_type": "execute_result",
          "data": {
            "text/plain": [
              "   cluster  rating\n",
              "0        4     4.0\n",
              "1        4     8.0\n",
              "2        4     8.0\n",
              "3        4     3.5\n",
              "4        4     7.0"
            ],
            "text/html": [
              "\n",
              "  <div id=\"df-93eea9d9-9c94-41f9-966c-eaec63055974\">\n",
              "    <div class=\"colab-df-container\">\n",
              "      <div>\n",
              "<style scoped>\n",
              "    .dataframe tbody tr th:only-of-type {\n",
              "        vertical-align: middle;\n",
              "    }\n",
              "\n",
              "    .dataframe tbody tr th {\n",
              "        vertical-align: top;\n",
              "    }\n",
              "\n",
              "    .dataframe thead th {\n",
              "        text-align: right;\n",
              "    }\n",
              "</style>\n",
              "<table border=\"1\" class=\"dataframe\">\n",
              "  <thead>\n",
              "    <tr style=\"text-align: right;\">\n",
              "      <th></th>\n",
              "      <th>cluster</th>\n",
              "      <th>rating</th>\n",
              "    </tr>\n",
              "  </thead>\n",
              "  <tbody>\n",
              "    <tr>\n",
              "      <th>0</th>\n",
              "      <td>4</td>\n",
              "      <td>4.0</td>\n",
              "    </tr>\n",
              "    <tr>\n",
              "      <th>1</th>\n",
              "      <td>4</td>\n",
              "      <td>8.0</td>\n",
              "    </tr>\n",
              "    <tr>\n",
              "      <th>2</th>\n",
              "      <td>4</td>\n",
              "      <td>8.0</td>\n",
              "    </tr>\n",
              "    <tr>\n",
              "      <th>3</th>\n",
              "      <td>4</td>\n",
              "      <td>3.5</td>\n",
              "    </tr>\n",
              "    <tr>\n",
              "      <th>4</th>\n",
              "      <td>4</td>\n",
              "      <td>7.0</td>\n",
              "    </tr>\n",
              "  </tbody>\n",
              "</table>\n",
              "</div>\n",
              "      <button class=\"colab-df-convert\" onclick=\"convertToInteractive('df-93eea9d9-9c94-41f9-966c-eaec63055974')\"\n",
              "              title=\"Convert this dataframe to an interactive table.\"\n",
              "              style=\"display:none;\">\n",
              "        \n",
              "  <svg xmlns=\"http://www.w3.org/2000/svg\" height=\"24px\"viewBox=\"0 0 24 24\"\n",
              "       width=\"24px\">\n",
              "    <path d=\"M0 0h24v24H0V0z\" fill=\"none\"/>\n",
              "    <path d=\"M18.56 5.44l.94 2.06.94-2.06 2.06-.94-2.06-.94-.94-2.06-.94 2.06-2.06.94zm-11 1L8.5 8.5l.94-2.06 2.06-.94-2.06-.94L8.5 2.5l-.94 2.06-2.06.94zm10 10l.94 2.06.94-2.06 2.06-.94-2.06-.94-.94-2.06-.94 2.06-2.06.94z\"/><path d=\"M17.41 7.96l-1.37-1.37c-.4-.4-.92-.59-1.43-.59-.52 0-1.04.2-1.43.59L10.3 9.45l-7.72 7.72c-.78.78-.78 2.05 0 2.83L4 21.41c.39.39.9.59 1.41.59.51 0 1.02-.2 1.41-.59l7.78-7.78 2.81-2.81c.8-.78.8-2.07 0-2.86zM5.41 20L4 18.59l7.72-7.72 1.47 1.35L5.41 20z\"/>\n",
              "  </svg>\n",
              "      </button>\n",
              "      \n",
              "  <style>\n",
              "    .colab-df-container {\n",
              "      display:flex;\n",
              "      flex-wrap:wrap;\n",
              "      gap: 12px;\n",
              "    }\n",
              "\n",
              "    .colab-df-convert {\n",
              "      background-color: #E8F0FE;\n",
              "      border: none;\n",
              "      border-radius: 50%;\n",
              "      cursor: pointer;\n",
              "      display: none;\n",
              "      fill: #1967D2;\n",
              "      height: 32px;\n",
              "      padding: 0 0 0 0;\n",
              "      width: 32px;\n",
              "    }\n",
              "\n",
              "    .colab-df-convert:hover {\n",
              "      background-color: #E2EBFA;\n",
              "      box-shadow: 0px 1px 2px rgba(60, 64, 67, 0.3), 0px 1px 3px 1px rgba(60, 64, 67, 0.15);\n",
              "      fill: #174EA6;\n",
              "    }\n",
              "\n",
              "    [theme=dark] .colab-df-convert {\n",
              "      background-color: #3B4455;\n",
              "      fill: #D2E3FC;\n",
              "    }\n",
              "\n",
              "    [theme=dark] .colab-df-convert:hover {\n",
              "      background-color: #434B5C;\n",
              "      box-shadow: 0px 1px 3px 1px rgba(0, 0, 0, 0.15);\n",
              "      filter: drop-shadow(0px 1px 2px rgba(0, 0, 0, 0.3));\n",
              "      fill: #FFFFFF;\n",
              "    }\n",
              "  </style>\n",
              "\n",
              "      <script>\n",
              "        const buttonEl =\n",
              "          document.querySelector('#df-93eea9d9-9c94-41f9-966c-eaec63055974 button.colab-df-convert');\n",
              "        buttonEl.style.display =\n",
              "          google.colab.kernel.accessAllowed ? 'block' : 'none';\n",
              "\n",
              "        async function convertToInteractive(key) {\n",
              "          const element = document.querySelector('#df-93eea9d9-9c94-41f9-966c-eaec63055974');\n",
              "          const dataTable =\n",
              "            await google.colab.kernel.invokeFunction('convertToInteractive',\n",
              "                                                     [key], {});\n",
              "          if (!dataTable) return;\n",
              "\n",
              "          const docLinkHtml = 'Like what you see? Visit the ' +\n",
              "            '<a target=\"_blank\" href=https://colab.research.google.com/notebooks/data_table.ipynb>data table notebook</a>'\n",
              "            + ' to learn more about interactive tables.';\n",
              "          element.innerHTML = '';\n",
              "          dataTable['output_type'] = 'display_data';\n",
              "          await google.colab.output.renderOutput(dataTable, element);\n",
              "          const docLink = document.createElement('div');\n",
              "          docLink.innerHTML = docLinkHtml;\n",
              "          element.appendChild(docLink);\n",
              "        }\n",
              "      </script>\n",
              "    </div>\n",
              "  </div>\n",
              "  "
            ]
          },
          "metadata": {},
          "execution_count": 11
        }
      ]
    },
    {
      "cell_type": "markdown",
      "source": [
        "### Plot bigram clusters against ratings"
      ],
      "metadata": {
        "id": "iiFMAEVYnLIb"
      }
    },
    {
      "cell_type": "code",
      "source": [
        "plt.figure(figsize=(10, 10))\n",
        "sns.kdeplot(data=bigram_cluster_df, x=\"rating\", hue=\"cluster\", shade=True)\n"
      ],
      "metadata": {
        "colab": {
          "base_uri": "https://localhost:8080/",
          "height": 624
        },
        "id": "IY68fmGi3ty-",
        "outputId": "27eedee6-df97-46bd-f82c-a89b74ee3f04"
      },
      "execution_count": 12,
      "outputs": [
        {
          "output_type": "execute_result",
          "data": {
            "text/plain": [
              "<matplotlib.axes._subplots.AxesSubplot at 0x7faf469338d0>"
            ]
          },
          "metadata": {},
          "execution_count": 12
        },
        {
          "output_type": "display_data",
          "data": {
            "text/plain": [
              "<Figure size 720x720 with 1 Axes>"
            ],
            "image/png": "[encoded data removed]"
          },
          "metadata": {
            "needs_background": "light"
          }
        }
      ]
    },
    {
      "cell_type": "markdown",
      "source": [
        "### Create dataframe of trigram cluster IDs and ratings"
      ],
      "metadata": {
        "id": "VAbOIMcgcrie"
      }
    },
    {
      "cell_type": "code",
      "source": [
        "trigram_cluster_df = pd.DataFrame(\n",
        "    {\"cluster\": trigrams_count_kmeans.predict(trigram_count_mtx),\n",
        "     \"rating\": np.array(y_train['rating'])})"
      ],
      "metadata": {
        "id": "f-MxEd10czH7"
      },
      "execution_count": 13,
      "outputs": []
    },
    {
      "cell_type": "markdown",
      "source": [
        "### Plot trigram clusters against ratings"
      ],
      "metadata": {
        "id": "8Aa5oOx5c9Bz"
      }
    },
    {
      "cell_type": "code",
      "source": [
        "plt.figure(figsize=(12, 12))\n",
        "sns.kdeplot(data=trigram_cluster_df, x=\"rating\", hue=\"cluster\", shade=True)"
      ],
      "metadata": {
        "colab": {
          "base_uri": "https://localhost:8080/",
          "height": 732
        },
        "id": "7SsMkS1Nc8EC",
        "outputId": "97db1de4-f5ff-4469-daba-57abf568be19"
      },
      "execution_count": 14,
      "outputs": [
        {
          "output_type": "execute_result",
          "data": {
            "text/plain": [
              "<matplotlib.axes._subplots.AxesSubplot at 0x7faf447bf390>"
            ]
          },
          "metadata": {},
          "execution_count": 14
        },
        {
          "output_type": "display_data",
          "data": {
            "text/plain": [
              "<Figure size 864x864 with 1 Axes>"
            ],
            "image/png": "[encoded data removed]"
          },
          "metadata": {
            "needs_background": "light"
          }
        }
      ]
    },
    {
      "cell_type": "markdown",
      "source": [
        "### Top terms per cluster"
      ],
      "metadata": {
        "id": "gzHxOJasVHvV"
      }
    },
    {
      "cell_type": "code",
      "source": [
        "print(\"Top terms: bigrams\")\n",
        "bi_order_centroids = bigrams_count_kmeans.cluster_centers_.argsort()[:, ::-1]\n",
        "for i in range(bigram_clusters):\n",
        "    print(\"Cluster %d:\" % i)\n",
        "    for ind in bi_order_centroids[i, :10]:\n",
        "        print(\" %s\" % bigram_columns[ind], end=\"\\n\")\n",
        "    print()\n",
        "\n",
        "print()\n",
        "print(\"Top terms: trigrams\")\n",
        "tri_order_centroids = trigrams_count_kmeans.cluster_centers_.argsort()[:, ::-1]\n",
        "for i in range(trigram_clusters):\n",
        "    print(\"Cluster %d:\" % i)\n",
        "    for ind in tri_order_centroids[i, :10]:\n",
        "        print(\" %s\" % trigram_columns[ind], end=\"\\n\")\n",
        "    print()"
      ],
      "metadata": {
        "id": "8YoFRweYVG8X",
        "colab": {
          "base_uri": "https://localhost:8080/"
        },
        "outputId": "1d9b62fd-c0bb-400a-a181-15c5c653261e"
      },
      "execution_count": 15,
      "outputs": [
        {
          "output_type": "stream",
          "name": "stdout",
          "text": [
            "Top terms: bigrams\n",
            "Cluster 0:\n",
            " takes long\n",
            " long time\n",
            " don t\n",
            " doesn t\n",
            " isn t\n",
            " aren t\n",
            " time set\n",
            " m sure\n",
            " worker placement\n",
            " long s\n",
            "\n",
            "Cluster 1:\n",
            " core set\n",
            " deck building\n",
            " x wing\n",
            " isn t\n",
            " m sure\n",
            " don t\n",
            " didn t\n",
            " doesn t\n",
            " hasn t\n",
            " expansions add\n",
            "\n",
            "Cluster 2:\n",
            " don t\n",
            " t know\n",
            " t think\n",
            " doesn t\n",
            " didn t\n",
            " isn t\n",
            " t feel\n",
            " t mind\n",
            " t care\n",
            " won t\n",
            "\n",
            "Cluster 3:\n",
            " boardgamegeek com\n",
            " com thread\n",
            " www boardgamegeek\n",
            " https boardgamegeek\n",
            " https www\n",
            " http www\n",
            " youtube com\n",
            " www youtube\n",
            " com watch\n",
            " watch v\n",
            "\n",
            "Cluster 4:\n",
            " doesn t\n",
            " didn t\n",
            " isn t\n",
            " worker placement\n",
            " easy learn\n",
            " haven t\n",
            " area control\n",
            " easy teach\n",
            " wasn t\n",
            " player interaction\n",
            "\n",
            "Cluster 5:\n",
            " hadn t\n",
            " don t\n",
            " didn t\n",
            " isn t\n",
            " doesn t\n",
            " wouldn t\n",
            " wasn t\n",
            " s pretty\n",
            " engine building\n",
            " t know\n",
            "\n",
            "\n",
            "Top terms: trigrams\n",
            "Cluster 0:\n",
            " don t know\n",
            " don t mind\n",
            " don t care\n",
            " doesn t feel\n",
            " doesn t work\n",
            " people don t\n",
            " looking forward playing\n",
            " https boardgamegeek com\n",
            " boardgamegeek com thread\n",
            " www boardgamegeek com\n",
            "\n",
            "Cluster 1:\n",
            " don t feel\n",
            " time don t\n",
            " don t think\n",
            " rules easy teach\n",
            " doesn t feel\n",
            " don t know\n",
            " ok don t\n",
            " didn t feel\n",
            " don t care\n",
            " end don t\n",
            "\n",
            "Cluster 2:\n",
            " don t think\n",
            " t think s\n",
            " t think ll\n",
            " t think d\n",
            " t think ve\n",
            " players don t\n",
            " don t know\n",
            " player don t\n",
            " time don t\n",
            " cards don t\n",
            "\n"
          ]
        }
      ]
    },
    {
      "cell_type": "markdown",
      "source": [
        "## Set up KMeans on frequency matrix"
      ],
      "metadata": {
        "id": "zzOF98CuKnCR"
      }
    },
    {
      "cell_type": "code",
      "source": [
        "bigrams_freq_kmeans = KMeans(n_clusters=bigram_clusters,\n",
        "                              init='k-means++',\n",
        "                              random_state=42)\n",
        "\n",
        "trigrams_freq_kmeans = KMeans(n_clusters=trigram_clusters,\n",
        "                               init='k-means++',\n",
        "                               random_state=42)\n",
        "\n",
        "bigram_freq_assn = bigrams_freq_kmeans.fit_predict(bigram_freq_mtx)\n",
        "trigram_freq_assn = trigrams_freq_kmeans.fit_predict(trigram_freq_mtx)"
      ],
      "metadata": {
        "id": "UZrJMt3hLQW7"
      },
      "execution_count": 16,
      "outputs": []
    },
    {
      "cell_type": "markdown",
      "source": [
        "### Run PCA to reduce components"
      ],
      "metadata": {
        "id": "yXRRSJDDKtY5"
      }
    },
    {
      "cell_type": "code",
      "source": [
        "bigram_pca_freq = decomposition.PCA(n_components=2)\n",
        "bigram_pca_freq_fitted = bigram_pca_freq.fit(bigram_freq_mtx.toarray())\n",
        "\n",
        "bigram_pca_freq_fitted.explained_variance_ratio_"
      ],
      "metadata": {
        "colab": {
          "base_uri": "https://localhost:8080/"
        },
        "id": "rw4HOzaHLKzv",
        "outputId": "d3bb0b8b-f31a-410c-82e7-8ce8104582bc"
      },
      "execution_count": 17,
      "outputs": [
        {
          "output_type": "execute_result",
          "data": {
            "text/plain": [
              "array([0.01030736, 0.00577597])"
            ]
          },
          "metadata": {},
          "execution_count": 17
        }
      ]
    },
    {
      "cell_type": "code",
      "source": [
        "bigram_pca_freq_transformed = bigram_pca_freq.transform(bigram_freq_mtx.toarray())\n",
        "\n",
        "bigram_freq_pc1, bigram_freq_pc2 = zip(*bigram_pca_freq_transformed)"
      ],
      "metadata": {
        "id": "VuqBlLcLLne5"
      },
      "execution_count": 18,
      "outputs": []
    },
    {
      "cell_type": "markdown",
      "source": [
        "### Plot top components"
      ],
      "metadata": {
        "id": "ztIvwkvUKwM8"
      }
    },
    {
      "cell_type": "code",
      "source": [
        "cmap = matplotlib.colors.ListedColormap(['red', 'blue'])\n",
        "\n",
        "plt.scatter(bigram_freq_pc1, bigram_freq_pc2, c=bigram_freq_assn.tolist(), cmap=cmap, alpha=0.5)"
      ],
      "metadata": {
        "colab": {
          "base_uri": "https://localhost:8080/",
          "height": 283
        },
        "id": "83rBqdvQLKLj",
        "outputId": "9a3733e5-7553-4420-d5fd-1b0300cd7eb0"
      },
      "execution_count": 19,
      "outputs": [
        {
          "output_type": "execute_result",
          "data": {
            "text/plain": [
              "<matplotlib.collections.PathCollection at 0x7faf4697b310>"
            ]
          },
          "metadata": {},
          "execution_count": 19
        },
        {
          "output_type": "display_data",
          "data": {
            "text/plain": [
              "<Figure size 432x288 with 1 Axes>"
            ],
            "image/png": "[encoded data removed]"
          },
          "metadata": {
            "needs_background": "light"
          }
        }
      ]
    },
    {
      "cell_type": "markdown",
      "source": [
        "### Create dataframe of bigrams cluster IDs and ratings"
      ],
      "metadata": {
        "id": "uLbTrWQFKyp9"
      }
    },
    {
      "cell_type": "code",
      "source": [
        "bigram_cluster_df_freq = pd.DataFrame(\n",
        "    {\"cluster\": bigrams_freq_kmeans.predict(bigram_freq_mtx),\n",
        "     \"rating\": np.array(y_train['rating'])})\n",
        "\n",
        "bigram_cluster_df_freq.head(5)"
      ],
      "metadata": {
        "colab": {
          "base_uri": "https://localhost:8080/",
          "height": 206
        },
        "id": "dAh5P_OZLJiY",
        "outputId": "1f0a82a2-0a0c-4ae0-b782-4f5f676837b5"
      },
      "execution_count": 20,
      "outputs": [
        {
          "output_type": "execute_result",
          "data": {
            "text/plain": [
              "   cluster  rating\n",
              "0        4     4.0\n",
              "1        4     8.0\n",
              "2        4     8.0\n",
              "3        4     3.5\n",
              "4        1     7.0"
            ],
            "text/html": [
              "\n",
              "  <div id=\"df-a6f8ec24-b524-4e6c-b904-871f166d8bdb\">\n",
              "    <div class=\"colab-df-container\">\n",
              "      <div>\n",
              "<style scoped>\n",
              "    .dataframe tbody tr th:only-of-type {\n",
              "        vertical-align: middle;\n",
              "    }\n",
              "\n",
              "    .dataframe tbody tr th {\n",
              "        vertical-align: top;\n",
              "    }\n",
              "\n",
              "    .dataframe thead th {\n",
              "        text-align: right;\n",
              "    }\n",
              "</style>\n",
              "<table border=\"1\" class=\"dataframe\">\n",
              "  <thead>\n",
              "    <tr style=\"text-align: right;\">\n",
              "      <th></th>\n",
              "      <th>cluster</th>\n",
              "      <th>rating</th>\n",
              "    </tr>\n",
              "  </thead>\n",
              "  <tbody>\n",
              "    <tr>\n",
              "      <th>0</th>\n",
              "      <td>4</td>\n",
              "      <td>4.0</td>\n",
              "    </tr>\n",
              "    <tr>\n",
              "      <th>1</th>\n",
              "      <td>4</td>\n",
              "      <td>8.0</td>\n",
              "    </tr>\n",
              "    <tr>\n",
              "      <th>2</th>\n",
              "      <td>4</td>\n",
              "      <td>8.0</td>\n",
              "    </tr>\n",
              "    <tr>\n",
              "      <th>3</th>\n",
              "      <td>4</td>\n",
              "      <td>3.5</td>\n",
              "    </tr>\n",
              "    <tr>\n",
              "      <th>4</th>\n",
              "      <td>1</td>\n",
              "      <td>7.0</td>\n",
              "    </tr>\n",
              "  </tbody>\n",
              "</table>\n",
              "</div>\n",
              "      <button class=\"colab-df-convert\" onclick=\"convertToInteractive('df-a6f8ec24-b524-4e6c-b904-871f166d8bdb')\"\n",
              "              title=\"Convert this dataframe to an interactive table.\"\n",
              "              style=\"display:none;\">\n",
              "        \n",
              "  <svg xmlns=\"http://www.w3.org/2000/svg\" height=\"24px\"viewBox=\"0 0 24 24\"\n",
              "       width=\"24px\">\n",
              "    <path d=\"M0 0h24v24H0V0z\" fill=\"none\"/>\n",
              "    <path d=\"M18.56 5.44l.94 2.06.94-2.06 2.06-.94-2.06-.94-.94-2.06-.94 2.06-2.06.94zm-11 1L8.5 8.5l.94-2.06 2.06-.94-2.06-.94L8.5 2.5l-.94 2.06-2.06.94zm10 10l.94 2.06.94-2.06 2.06-.94-2.06-.94-.94-2.06-.94 2.06-2.06.94z\"/><path d=\"M17.41 7.96l-1.37-1.37c-.4-.4-.92-.59-1.43-.59-.52 0-1.04.2-1.43.59L10.3 9.45l-7.72 7.72c-.78.78-.78 2.05 0 2.83L4 21.41c.39.39.9.59 1.41.59.51 0 1.02-.2 1.41-.59l7.78-7.78 2.81-2.81c.8-.78.8-2.07 0-2.86zM5.41 20L4 18.59l7.72-7.72 1.47 1.35L5.41 20z\"/>\n",
              "  </svg>\n",
              "      </button>\n",
              "      \n",
              "  <style>\n",
              "    .colab-df-container {\n",
              "      display:flex;\n",
              "      flex-wrap:wrap;\n",
              "      gap: 12px;\n",
              "    }\n",
              "\n",
              "    .colab-df-convert {\n",
              "      background-color: #E8F0FE;\n",
              "      border: none;\n",
              "      border-radius: 50%;\n",
              "      cursor: pointer;\n",
              "      display: none;\n",
              "      fill: #1967D2;\n",
              "      height: 32px;\n",
              "      padding: 0 0 0 0;\n",
              "      width: 32px;\n",
              "    }\n",
              "\n",
              "    .colab-df-convert:hover {\n",
              "      background-color: #E2EBFA;\n",
              "      box-shadow: 0px 1px 2px rgba(60, 64, 67, 0.3), 0px 1px 3px 1px rgba(60, 64, 67, 0.15);\n",
              "      fill: #174EA6;\n",
              "    }\n",
              "\n",
              "    [theme=dark] .colab-df-convert {\n",
              "      background-color: #3B4455;\n",
              "      fill: #D2E3FC;\n",
              "    }\n",
              "\n",
              "    [theme=dark] .colab-df-convert:hover {\n",
              "      background-color: #434B5C;\n",
              "      box-shadow: 0px 1px 3px 1px rgba(0, 0, 0, 0.15);\n",
              "      filter: drop-shadow(0px 1px 2px rgba(0, 0, 0, 0.3));\n",
              "      fill: #FFFFFF;\n",
              "    }\n",
              "  </style>\n",
              "\n",
              "      <script>\n",
              "        const buttonEl =\n",
              "          document.querySelector('#df-a6f8ec24-b524-4e6c-b904-871f166d8bdb button.colab-df-convert');\n",
              "        buttonEl.style.display =\n",
              "          google.colab.kernel.accessAllowed ? 'block' : 'none';\n",
              "\n",
              "        async function convertToInteractive(key) {\n",
              "          const element = document.querySelector('#df-a6f8ec24-b524-4e6c-b904-871f166d8bdb');\n",
              "          const dataTable =\n",
              "            await google.colab.kernel.invokeFunction('convertToInteractive',\n",
              "                                                     [key], {});\n",
              "          if (!dataTable) return;\n",
              "\n",
              "          const docLinkHtml = 'Like what you see? Visit the ' +\n",
              "            '<a target=\"_blank\" href=https://colab.research.google.com/notebooks/data_table.ipynb>data table notebook</a>'\n",
              "            + ' to learn more about interactive tables.';\n",
              "          element.innerHTML = '';\n",
              "          dataTable['output_type'] = 'display_data';\n",
              "          await google.colab.output.renderOutput(dataTable, element);\n",
              "          const docLink = document.createElement('div');\n",
              "          docLink.innerHTML = docLinkHtml;\n",
              "          element.appendChild(docLink);\n",
              "        }\n",
              "      </script>\n",
              "    </div>\n",
              "  </div>\n",
              "  "
            ]
          },
          "metadata": {},
          "execution_count": 20
        }
      ]
    },
    {
      "cell_type": "markdown",
      "source": [
        "### Plot bigram clusters against ratings"
      ],
      "metadata": {
        "id": "__s5tM1NK6u-"
      }
    },
    {
      "cell_type": "code",
      "source": [
        "plt.figure(figsize=(10, 10))\n",
        "sns.kdeplot(data=bigram_cluster_df_freq, x=\"rating\", hue=\"cluster\", shade=True)"
      ],
      "metadata": {
        "colab": {
          "base_uri": "https://localhost:8080/",
          "height": 681
        },
        "id": "cSAx1zCvLI-J",
        "outputId": "33d296c1-dddd-4260-ab42-e9e9b698acfc"
      },
      "execution_count": 21,
      "outputs": [
        {
          "output_type": "stream",
          "name": "stderr",
          "text": [
            "/usr/local/lib/python3.7/dist-packages/seaborn/distributions.py:316: UserWarning: Dataset has 0 variance; skipping density estimate. Pass `warn_singular=False` to disable this warning.\n",
            "  warnings.warn(msg, UserWarning)\n"
          ]
        },
        {
          "output_type": "execute_result",
          "data": {
            "text/plain": [
              "<matplotlib.axes._subplots.AxesSubplot at 0x7faf432da050>"
            ]
          },
          "metadata": {},
          "execution_count": 21
        },
        {
          "output_type": "display_data",
          "data": {
            "text/plain": [
              "<Figure size 720x720 with 1 Axes>"
            ],
            "image/png": "[encoded data removed]"
          },
          "metadata": {
            "needs_background": "light"
          }
        }
      ]
    },
    {
      "cell_type": "markdown",
      "source": [
        "### Create dataframe of trigram cluster IDs and ratings"
      ],
      "metadata": {
        "id": "ysv5wCHYK-FA"
      }
    },
    {
      "cell_type": "code",
      "source": [
        "trigram_cluster_df_freq = pd.DataFrame(\n",
        "    {\"cluster\": trigrams_freq_kmeans.predict(trigram_freq_mtx),\n",
        "     \"rating\": np.array(y_train['rating'])})"
      ],
      "metadata": {
        "id": "r0DLl6CwLIZ0"
      },
      "execution_count": 22,
      "outputs": []
    },
    {
      "cell_type": "markdown",
      "source": [
        "### Plot trigram clusters against ratings"
      ],
      "metadata": {
        "id": "CrVpxoMZLBLA"
      }
    },
    {
      "cell_type": "code",
      "source": [
        "plt.figure(figsize=(12, 12))\n",
        "sns.kdeplot(data=trigram_cluster_df_freq, x=\"rating\", hue=\"cluster\", shade=True)"
      ],
      "metadata": {
        "colab": {
          "base_uri": "https://localhost:8080/",
          "height": 732
        },
        "id": "PVOOZbpFLHwq",
        "outputId": "1c0f4b10-c505-49c0-ea5b-6efc6e2adffb"
      },
      "execution_count": 23,
      "outputs": [
        {
          "output_type": "execute_result",
          "data": {
            "text/plain": [
              "<matplotlib.axes._subplots.AxesSubplot at 0x7faf4416c410>"
            ]
          },
          "metadata": {},
          "execution_count": 23
        },
        {
          "output_type": "display_data",
          "data": {
            "text/plain": [
              "<Figure size 864x864 with 1 Axes>"
            ],
            "image/png": "[encoded data removed]"
          },
          "metadata": {
            "needs_background": "light"
          }
        }
      ]
    },
    {
      "cell_type": "markdown",
      "source": [
        "### Top terms per cluster"
      ],
      "metadata": {
        "id": "cKvRjP94LEGM"
      }
    },
    {
      "cell_type": "code",
      "source": [
        "print(\"Top terms: bigrams\")\n",
        "bi_freq_centroids = bigrams_freq_kmeans.cluster_centers_.argsort()[:, ::-1]\n",
        "for i in range(bigram_clusters):\n",
        "    print(\"Cluster %d:\" % i)\n",
        "    for ind in bi_freq_centroids[i, :10]:\n",
        "        print(\" %s\" % bigram_columns[ind], end=\"\\n\")\n",
        "    print()\n",
        "\n",
        "print()\n",
        "print(\"Top terms: trigrams\")\n",
        "tri_freq_centroids = trigrams_freq_kmeans.cluster_centers_.argsort()[:, ::-1]\n",
        "for i in range(trigram_clusters):\n",
        "    print(\"Cluster %d:\" % i)\n",
        "    for ind in tri_freq_centroids[i, :10]:\n",
        "        print(\" %s\" % trigram_columns[ind], end=\"\\n\")\n",
        "    print()"
      ],
      "metadata": {
        "colab": {
          "base_uri": "https://localhost:8080/"
        },
        "id": "7mdXG-YjLG_a",
        "outputId": "949bed2c-3e43-424f-952a-611ec67ec07c"
      },
      "execution_count": 24,
      "outputs": [
        {
          "output_type": "stream",
          "name": "stdout",
          "text": [
            "Top terms: bigrams\n",
            "Cluster 0:\n",
            " super light\n",
            " light party\n",
            " light version\n",
            " light rules\n",
            " light filler\n",
            " s light\n",
            " party people\n",
            " great filler\n",
            " apples apples\n",
            " people s\n",
            "\n",
            "Cluster 1:\n",
            " m sure\n",
            " sure s\n",
            " don t\n",
            " didn t\n",
            " sure ll\n",
            " doesn t\n",
            " sure d\n",
            " sure m\n",
            " sure better\n",
            " players m\n",
            "\n",
            "Cluster 2:\n",
            " cards used\n",
            " way introduce\n",
            " sleeved cards\n",
            " s small\n",
            " quality cards\n",
            " card quality\n",
            " cards way\n",
            " great lots\n",
            " bit simple\n",
            " great way\n",
            "\n",
            "Cluster 3:\n",
            " isn t\n",
            " don t\n",
            " t bad\n",
            " doesn t\n",
            " t great\n",
            " aren t\n",
            " t interesting\n",
            " t quite\n",
            " t lot\n",
            " theme isn\n",
            "\n",
            "Cluster 4:\n",
            " doesn t\n",
            " didn t\n",
            " worker placement\n",
            " easy learn\n",
            " haven t\n",
            " area control\n",
            " wasn t\n",
            " easy teach\n",
            " push luck\n",
            " non gamers\n",
            "\n",
            "Cluster 5:\n",
            " don t\n",
            " t know\n",
            " t think\n",
            " t care\n",
            " t mind\n",
            " doesn t\n",
            " t feel\n",
            " people don\n",
            " t enjoy\n",
            " didn t\n",
            "\n",
            "\n",
            "Top terms: trigrams\n",
            "Cluster 0:\n",
            " don t think\n",
            " don t care\n",
            " doesn t feel\n",
            " don t feel\n",
            " don t mind\n",
            " doesn t work\n",
            " looking forward playing\n",
            " people don t\n",
            " didn t feel\n",
            " haven t tried\n",
            "\n",
            "Cluster 1:\n",
            " don t enjoy\n",
            " enjoy don t\n",
            " sure don t\n",
            " people don t\n",
            " s don t\n",
            " normally don t\n",
            " reason don t\n",
            " plays don t\n",
            " don t think\n",
            " end don t\n",
            "\n",
            "Cluster 2:\n",
            " don t know\n",
            " t know s\n",
            " people don t\n",
            " t know people\n",
            " know don t\n",
            " plays don t\n",
            " players don t\n",
            " great don t\n",
            " love don t\n",
            " playing don t\n",
            "\n"
          ]
        }
      ]
    },
    {
      "cell_type": "markdown",
      "source": [
        "# Topic modeling"
      ],
      "metadata": {
        "id": "N1UjajT82NbI"
      }
    },
    {
      "cell_type": "markdown",
      "source": [
        "## NMF"
      ],
      "metadata": {
        "id": "neOCsj6c2rxE"
      }
    },
    {
      "cell_type": "markdown",
      "source": [
        "### Instantiate model for count matrix"
      ],
      "metadata": {
        "id": "g3lYfDo9MolC"
      }
    },
    {
      "cell_type": "code",
      "source": [
        "nmf_model_bigrams_count = NMF(\n",
        "    n_components=10, init='nndsvdar', random_state=42, max_iter=100)\n",
        "\n",
        "nmf_model_trigrams_count = NMF(\n",
        "    n_components=10, init='nndsvdar', random_state=42, max_iter=100)"
      ],
      "metadata": {
        "id": "HoScaTFkM-D_"
      },
      "execution_count": 25,
      "outputs": []
    },
    {
      "cell_type": "markdown",
      "source": [
        "Fit training sets with NMF"
      ],
      "metadata": {
        "id": "mQKLvFWNM06n"
      }
    },
    {
      "cell_type": "code",
      "source": [
        "nmf_topics_bigrams_count = nmf_model_bigrams_count.fit_transform(bigram_count_mtx)\n",
        "nmf_topics_trigrams_count = nmf_model_trigrams_count.fit_transform(trigram_count_mtx)"
      ],
      "metadata": {
        "id": "uPHMMJuYM_BQ"
      },
      "execution_count": 26,
      "outputs": []
    },
    {
      "cell_type": "markdown",
      "source": [
        "Transform test sets with NMF"
      ],
      "metadata": {
        "id": "jhN3MdwnM2sl"
      }
    },
    {
      "cell_type": "code",
      "source": [
        "nmf_topics_bigrams_test_count = nmf_model_bigrams_count.transform(bigram_count_mtx_test)\n",
        "nmf_topics_trigrams_test_count = nmf_model_trigrams_count.transform(trigram_count_mtx_test)"
      ],
      "metadata": {
        "id": "zFCWYDIeNAkj"
      },
      "execution_count": 27,
      "outputs": []
    },
    {
      "cell_type": "markdown",
      "source": [
        "Output topic phrases"
      ],
      "metadata": {
        "id": "SYYXtNFdM7UH"
      }
    },
    {
      "cell_type": "code",
      "source": [
        "n_top_phrases = 10 \n",
        "\n",
        "for topic_idx, topic in enumerate(nmf_model_bigrams_count.components_):\n",
        "  print(f'Topic {(topic_idx + 1)}:')\n",
        "  print(' '.join([bigram_columns[i] for i in topic.argsort()\\\n",
        "                  [:-n_top_phrases - 1:-1]]))"
      ],
      "metadata": {
        "colab": {
          "base_uri": "https://localhost:8080/"
        },
        "id": "aVe-lXjRNBBb",
        "outputId": "5a16c9ec-4c01-49ae-ff5c-8500bd9d5f5f"
      },
      "execution_count": 28,
      "outputs": [
        {
          "output_type": "stream",
          "name": "stdout",
          "text": [
            "Topic 1:\n",
            "don t t know t think t mind t care t feel people don t enjoy players don t understand\n",
            "Topic 2:\n",
            "doesn t t feel t work t make t matter t long t quite t help theme doesn t come\n",
            "Topic 3:\n",
            "didn t t feel t enjoy t work t think t care t know t grab t quite couldn t\n",
            "Topic 4:\n",
            "isn t t bad t great t lot t quite t interesting t s theme isn long time thing thing\n",
            "Topic 5:\n",
            "worker placement resource management great worker victory points solid worker placement resource engine building player interaction stone age set collection\n",
            "Topic 6:\n",
            "easy learn learn teach s easy quick easy learn hard learn quick hard master rules easy learn easy great easy\n",
            "Topic 7:\n",
            "haven t t tried long time t seen t years t long t gotten looking forward t able quite bit\n",
            "Topic 8:\n",
            "aren t won t area control m sure player interaction wouldn t deck building push luck set collection think s\n",
            "Topic 9:\n",
            "wasn t t bad wouldn t t sure couldn t t expecting t impressed t great initial rating year old\n",
            "Topic 10:\n",
            "easy teach s easy non gamers teach learn new players quick easy teach quick plays quickly teach easy replay value\n"
          ]
        }
      ]
    },
    {
      "cell_type": "markdown",
      "source": [
        "### Instantiate model for frequency matrix"
      ],
      "metadata": {
        "id": "-hRpPDhsb9SC"
      }
    },
    {
      "cell_type": "code",
      "source": [
        "nmf_model_bigrams = NMF(\n",
        "    n_components=10, init='nndsvdar', random_state=42, max_iter=100)\n",
        "\n",
        "nmf_model_trigrams = NMF(\n",
        "    n_components=10, init='nndsvdar', random_state=42, max_iter=100)"
      ],
      "metadata": {
        "id": "YnK8GUg8b-su"
      },
      "execution_count": 29,
      "outputs": []
    },
    {
      "cell_type": "markdown",
      "source": [
        "Fit training sets with NMF"
      ],
      "metadata": {
        "id": "D8oMPndech_j"
      }
    },
    {
      "cell_type": "code",
      "source": [
        "nmf_topics_bigrams = nmf_model_bigrams.fit_transform(bigram_freq_mtx)\n",
        "nmf_topics_trigrams = nmf_model_trigrams.fit_transform(trigram_freq_mtx)"
      ],
      "metadata": {
        "id": "NUr1jd9Gcyzh"
      },
      "execution_count": 30,
      "outputs": []
    },
    {
      "cell_type": "markdown",
      "source": [
        "Transform test sets with NMF"
      ],
      "metadata": {
        "id": "FcfosSW1ck4p"
      }
    },
    {
      "cell_type": "code",
      "source": [
        "nmf_topics_bigrams_test = nmf_model_bigrams.transform(bigram_freq_mtx_test)\n",
        "nmf_topics_trigrams_test = nmf_model_trigrams.transform(trigram_freq_mtx_test)"
      ],
      "metadata": {
        "id": "FJk-EWP-c3Rp"
      },
      "execution_count": 31,
      "outputs": []
    },
    {
      "cell_type": "markdown",
      "source": [
        "Output top bigram topic phrases\n",
        "\n"
      ],
      "metadata": {
        "id": "38o8Yv07afkZ"
      }
    },
    {
      "cell_type": "code",
      "source": [
        "n_top_phrases = 10 \n",
        "\n",
        "for topic_idx, topic in enumerate(nmf_model_bigrams.components_):\n",
        "  print(f'Topic {(topic_idx + 1)}:')\n",
        "  print(' '.join([bigram_columns[i] for i in topic.argsort()\\\n",
        "                  [:-n_top_phrases - 1:-1]]))"
      ],
      "metadata": {
        "colab": {
          "base_uri": "https://localhost:8080/"
        },
        "id": "bd7f7kHUaU1w",
        "outputId": "b77fcfd9-4553-421f-c356-e62016cada0e"
      },
      "execution_count": 32,
      "outputs": [
        {
          "output_type": "stream",
          "name": "stdout",
          "text": [
            "Topic 1:\n",
            "don t t know t think t care t mind t feel t enjoy people don t understand players don\n",
            "Topic 2:\n",
            "didn t t enjoy t feel wasn t t work t care t think t grab t know t quite\n",
            "Topic 3:\n",
            "doesn t t work t feel t make t quite t long t matter theme doesn t help t come\n",
            "Topic 4:\n",
            "worker placement player interaction great worker solid worker resource management dice rolling engine building deck building placement resource placement theme\n",
            "Topic 5:\n",
            "isn t t bad aren t wasn t t great t interesting won t t quite t s wouldn t\n",
            "Topic 6:\n",
            "easy learn quick easy learn quick great easy learn teach learn hard fast easy s easy easy teach hard master\n",
            "Topic 7:\n",
            "haven t t tried t years long time t seen t long t quite year old wasn t t gotten\n",
            "Topic 8:\n",
            "area control set collection deck building interesting area hand management tile laying building area resource management dice rolling card drafting\n",
            "Topic 9:\n",
            "trick taking taking card player trick wasn t nice twist non gamers wouldn t s ok special cards looking forward\n",
            "Topic 10:\n",
            "push luck set collection dice rolling deck building luck dice easy teach non gamers luck element simple push deck builder\n"
          ]
        }
      ]
    },
    {
      "cell_type": "markdown",
      "source": [
        "Output top trigram top phrases"
      ],
      "metadata": {
        "id": "1pXwRmdjODOo"
      }
    },
    {
      "cell_type": "code",
      "source": [
        "n_top_phrases = 10 \n",
        "\n",
        "for topic_idx, topic in enumerate(nmf_model_trigrams.components_):\n",
        "  print(f'Topic {(topic_idx + 1)}:')\n",
        "  print(' '.join([trigram_columns[i] for i in topic.argsort()\\\n",
        "                  [:-n_top_phrases - 1:-1]]))"
      ],
      "metadata": {
        "colab": {
          "base_uri": "https://localhost:8080/"
        },
        "id": "JGJiTATdOFT5",
        "outputId": "b33e04db-af63-456c-866f-d4c44028faa6"
      },
      "execution_count": 33,
      "outputs": [
        {
          "output_type": "stream",
          "name": "stdout",
          "text": [
            "Topic 1:\n",
            "don t know t know s t know people players don t know don t plays don t cards don t great don t love don t playing don t\n",
            "Topic 2:\n",
            "don t think t think s t think ll t think d t think ve players don t player don t cards don t time don t playing don t\n",
            "Topic 3:\n",
            "don t care players don t usually don t love don t things don t s don t doesn t matter didn t enjoy theme don t generally don t\n",
            "Topic 4:\n",
            "doesn t feel isn t quite multiple paths victory time doesn t higher player counts cards doesn t doesn t matter doesn t make s doesn t players doesn t\n",
            "Topic 5:\n",
            "don t feel time don t cards don t doesn t matter rules don t don t understand players don t doesn t make rules easy teach end don t\n",
            "Topic 6:\n",
            "don t mind t mind playing long don t s don t players don t wouldn t mind win don t isn t interesting personally don t cards don t\n",
            "Topic 7:\n",
            "doesn t work t work players players doesn t player doesn t theme doesn t didn t work doesn t matter isn t bad doesn t make don t try\n",
            "Topic 8:\n",
            "looking forward playing m looking forward looking forward trying looking forward plays m sure s s don t wasn t sure long time ago don t anymore lots player interaction\n",
            "Topic 9:\n",
            "people don t don t enjoy don t understand don t s don t lot don t love don t expect don t time don t actually doesn t matter\n",
            "Topic 10:\n",
            "didn t feel don t enjoy didn t enjoy haven t tried look forward playing didn t quite players didn t year old son rules didn t don t wrong\n"
          ]
        }
      ]
    },
    {
      "cell_type": "markdown",
      "source": [
        "## LDA"
      ],
      "metadata": {
        "id": "PxmrBdS82rlu"
      }
    },
    {
      "cell_type": "markdown",
      "source": [
        "### Instantiate model for count matrix\n"
      ],
      "metadata": {
        "id": "0mnWTyzWaeL8"
      }
    },
    {
      "cell_type": "code",
      "source": [
        "lda_bigrams_count = LatentDirichletAllocation(\n",
        "    n_components=5, random_state=42, learning_method=\"batch\")\n",
        "lda_trigrams_count = LatentDirichletAllocation(\n",
        "    n_components=5, random_state=42, learning_method=\"batch\")"
      ],
      "metadata": {
        "id": "rZ12ly_nfO9d"
      },
      "execution_count": 34,
      "outputs": []
    },
    {
      "cell_type": "markdown",
      "source": [
        "Fit training sets with LDA"
      ],
      "metadata": {
        "id": "sbZfbolPfC4d"
      }
    },
    {
      "cell_type": "code",
      "source": [
        "lda_topics_bigrams_count = lda_bigrams_count.fit_transform(bigram_count_mtx)\n",
        "lda_topics_trigrams_count = lda_trigrams_count.fit_transform(trigram_count_mtx)"
      ],
      "metadata": {
        "id": "egEri41VfUZW"
      },
      "execution_count": 35,
      "outputs": []
    },
    {
      "cell_type": "markdown",
      "source": [
        "Transform test sets with LDA"
      ],
      "metadata": {
        "id": "9JMxsKtSfE7a"
      }
    },
    {
      "cell_type": "code",
      "source": [
        "lda_topics_bigrams_count_test = lda_bigrams_count.transform(bigram_count_mtx_test)\n",
        "lda_topics_trigrams_count_test = lda_trigrams_count.transform(trigram_count_mtx_test)"
      ],
      "metadata": {
        "id": "P17d4UZefeUI"
      },
      "execution_count": 36,
      "outputs": []
    },
    {
      "cell_type": "markdown",
      "source": [
        "Output top bigram topic phrases"
      ],
      "metadata": {
        "id": "pVt0mcfGfHLn"
      }
    },
    {
      "cell_type": "code",
      "source": [
        "n_top_phrases = 10 \n",
        "\n",
        "for topic_idx, topic in enumerate(lda_bigrams_count.components_):\n",
        "  print(f'Topic {(topic_idx + 1)}:')\n",
        "  print(' '.join([bigram_columns[i] for i in topic.argsort()\\\n",
        "                  [:-n_top_phrases - 1:-1]]))"
      ],
      "metadata": {
        "colab": {
          "base_uri": "https://localhost:8080/"
        },
        "id": "PN4BHSw-fnHZ",
        "outputId": "2a945ecd-7c6c-4cc8-c159-6977506c39ef"
      },
      "execution_count": 38,
      "outputs": [
        {
          "output_type": "stream",
          "name": "stdout",
          "text": [
            "Topic 1:\n",
            "didn t aren t deck building long time looking forward player interaction trick taking push luck doesn t m sure\n",
            "Topic 2:\n",
            "worker placement simple rules non gamers quite bit boardgamegeek com great theme decisions make s simple years ago s pretty\n",
            "Topic 3:\n",
            "don t easy learn doesn t easy teach didn t t know t think won t isn t wouldn t\n",
            "Topic 4:\n",
            "haven t area control little bit year old doesn t worker placement player counts paths victory look forward ve seen\n",
            "Topic 5:\n",
            "doesn t isn t wasn t set collection dice rolling best players rating based s great ticket ride wouldn t\n"
          ]
        }
      ]
    },
    {
      "cell_type": "markdown",
      "source": [
        "Output top trigram topic phrases"
      ],
      "metadata": {
        "id": "QZs4AOvEfJy-"
      }
    },
    {
      "cell_type": "code",
      "source": [
        "for topic_idx, topic in enumerate(lda_trigrams_count.components_):\n",
        "  print(f'Topic {(topic_idx + 1)}:')\n",
        "  print(' '.join([trigram_columns[i] for i in topic.argsort()\\\n",
        "                  [:-n_top_phrases - 1:-1]]))"
      ],
      "metadata": {
        "colab": {
          "base_uri": "https://localhost:8080/"
        },
        "id": "WzLGt1G4ft8C",
        "outputId": "74f5e339-fe31-4cb3-b1cf-ecbf74114db6"
      },
      "execution_count": 39,
      "outputs": [
        {
          "output_type": "stream",
          "name": "stdout",
          "text": [
            "Topic 1:\n",
            "doesn t feel doesn t work doesn t matter haven t tried takes long time long term strategy don t time don t love easy learn teach didn t care\n",
            "Topic 2:\n",
            "https boardgamegeek com don t enjoy didn t enjoy m big fan higher player counts isn t bad look forward playing didn t work www youtube com http boardgamegeek com\n",
            "Topic 3:\n",
            "don t feel www boardgamegeek com don t understand doesn t make http www boardgamegeek probably won t don t let t make sense boardgamegeek com thread don t remember\n",
            "Topic 4:\n",
            "don t know don t think don t mind cards don t year old son s easy teach didn t think t think s t don t long don t\n",
            "Topic 5:\n",
            "don t care people don t looking forward playing didn t feel players don t multiple paths victory m looking forward doesn t long don t expect wouldn t mind\n"
          ]
        }
      ]
    },
    {
      "cell_type": "markdown",
      "source": [
        "### Instantiate model for frequency matrix"
      ],
      "metadata": {
        "id": "RNTtpwPrNf9R"
      }
    },
    {
      "cell_type": "code",
      "source": [
        "lda_bigrams = LatentDirichletAllocation(\n",
        "    n_components=5, random_state=42, learning_method=\"batch\")\n",
        "lda_trigrams = LatentDirichletAllocation(\n",
        "    n_components=5, random_state=42, learning_method=\"batch\")"
      ],
      "metadata": {
        "id": "fsR0NKJ2Z7E_"
      },
      "execution_count": 40,
      "outputs": []
    },
    {
      "cell_type": "markdown",
      "source": [
        "Fit training sets with LDA"
      ],
      "metadata": {
        "id": "1xu-ALnOakCs"
      }
    },
    {
      "cell_type": "code",
      "source": [
        "lda_topics_bigrams = lda_bigrams.fit_transform(bigram_freq_mtx)\n",
        "lda_topics_trigrams = lda_trigrams.fit_transform(trigram_freq_mtx)"
      ],
      "metadata": {
        "id": "OHfJo0Ixawlf"
      },
      "execution_count": 41,
      "outputs": []
    },
    {
      "cell_type": "markdown",
      "source": [
        "Tranform test sets with LDA "
      ],
      "metadata": {
        "id": "leIemhE-aqs1"
      }
    },
    {
      "cell_type": "code",
      "source": [
        "lda_topics_bigrams_test = lda_bigrams.transform(bigram_freq_mtx_test)\n",
        "lda_topics_trigrams_test = lda_trigrams.transform(trigram_freq_mtx_test)"
      ],
      "metadata": {
        "id": "tP2s5wSebC3D"
      },
      "execution_count": 42,
      "outputs": []
    },
    {
      "cell_type": "markdown",
      "source": [
        "Output top bigram topic phrases\n"
      ],
      "metadata": {
        "id": "sF8zb_snvTa2"
      }
    },
    {
      "cell_type": "code",
      "source": [
        "n_top_phrases = 10 \n",
        "\n",
        "for topic_idx, topic in enumerate(lda_bigrams.components_):\n",
        "  print(f'Topic {(topic_idx + 1)}:')\n",
        "  print(' '.join([bigram_columns[i] for i in topic.argsort()\\\n",
        "                  [:-n_top_phrases - 1:-1]]))"
      ],
      "metadata": {
        "colab": {
          "base_uri": "https://localhost:8080/"
        },
        "id": "ENs23dbEvZ6n",
        "outputId": "02d04849-0435-4011-a17c-e9e44f560444"
      },
      "execution_count": 43,
      "outputs": [
        {
          "output_type": "stream",
          "name": "stdout",
          "text": [
            "Topic 1:\n",
            "didn t trick taking push luck looking forward don t deck building d d right group long time deck builder\n",
            "Topic 2:\n",
            "worker placement non gamers great theme simple rules years ago boardgamegeek com house rules quite bit players best number players\n",
            "Topic 3:\n",
            "don t easy learn t know easy teach t think didn t doesn t won t tile laying enjoy playing\n",
            "Topic 4:\n",
            "haven t area control year old doesn t great family thing thing hand management little bit roll write don t\n",
            "Topic 5:\n",
            "doesn t isn t rating based wasn t best players ticket ride puerto rico tile placement rule book probably best\n"
          ]
        }
      ]
    },
    {
      "cell_type": "markdown",
      "source": [
        "Output top trigram topic phrases"
      ],
      "metadata": {
        "id": "pnUdmmFCNzjF"
      }
    },
    {
      "cell_type": "code",
      "source": [
        "for topic_idx, topic in enumerate(lda_trigrams.components_):\n",
        "  print(f'Topic {(topic_idx + 1)}:')\n",
        "  print(' '.join([trigram_columns[i] for i in topic.argsort()\\\n",
        "                  [:-n_top_phrases - 1:-1]]))"
      ],
      "metadata": {
        "id": "11NFNQoEN5vp",
        "colab": {
          "base_uri": "https://localhost:8080/"
        },
        "outputId": "0c278446-ce22-424a-9825-4c73aa7a34fe"
      },
      "execution_count": 44,
      "outputs": [
        {
          "output_type": "stream",
          "name": "stdout",
          "text": [
            "Topic 1:\n",
            "doesn t feel doesn t work haven t tried doesn t matter takes long time long term strategy don t time don t love easy learn teach didn t care\n",
            "Topic 2:\n",
            "don t enjoy m big fan didn t enjoy higher player counts look forward playing https boardgamegeek com isn t bad didn t work rock paper scissors don t buy\n",
            "Topic 3:\n",
            "don t feel don t understand doesn t make probably won t www boardgamegeek com don t let don t remember looking forward trying didn t quite http www boardgamegeek\n",
            "Topic 4:\n",
            "don t know don t think don t mind cards don t year old son didn t think s easy teach year old daughter didn t know long don t\n",
            "Topic 5:\n",
            "don t care people don t looking forward playing didn t feel players don t multiple paths victory m looking forward doesn t long doesn t quite don t expect\n"
          ]
        }
      ]
    }
  ]
}
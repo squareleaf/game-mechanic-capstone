{
  "nbformat": 4,
  "nbformat_minor": 0,
  "metadata": {
    "colab": {
      "name": "Modeling - game review capstone.ipynb",
      "provenance": [],
      "machine_shape": "hm",
      "toc_visible": true
    },
    "kernelspec": {
      "name": "python3",
      "display_name": "Python 3"
    },
    "language_info": {
      "name": "python"
    },
    "accelerator": "GPU"
  },
  "cells": [
    {
      "cell_type": "markdown",
      "source": [
        "# Modeling step"
      ],
      "metadata": {
        "id": "oP-1O_le2BwA"
      }
    },
    {
      "cell_type": "markdown",
      "source": [
        "# Import tools"
      ],
      "metadata": {
        "id": "Ul7kTU9-2EVv"
      }
    },
    {
      "cell_type": "code",
      "source": [
        "import pandas as pd\n",
        "import numpy as np\n",
        "import matplotlib.pyplot as plt\n",
        "\n",
        "from sklearn import metrics\n",
        "from sklearn.metrics import pairwise_distances\n",
        "from sklearn.cluster import MiniBatchKMeans\n",
        "from sklearn.decomposition import NMF\n",
        "from sklearn.decomposition import LatentDirichletAllocation"
      ],
      "metadata": {
        "id": "OnNwWgj8FbCZ"
      },
      "execution_count": 1,
      "outputs": []
    },
    {
      "cell_type": "markdown",
      "source": [
        "# Import data"
      ],
      "metadata": {
        "id": "xCykZTSZ2Gm_"
      }
    },
    {
      "cell_type": "code",
      "source": [
        "game_ratings = pd.read_csv('/content/drive/MyDrive/Springboard DS/data/cleaned_game_ratings.csv', index_col=0)\n",
        "\n",
        "# From Count Vectorizer\n",
        "bigram_cv = pd.read_csv('/content/drive/MyDrive/Springboard DS/data/bigram_cv.csv')\n",
        "bigram_cv_test = pd.read_csv('/content/drive/MyDrive/Springboard DS/data/bigram_cv_test.csv')"
      ],
      "metadata": {
        "id": "YuDyKizx28lH"
      },
      "execution_count": 2,
      "outputs": []
    },
    {
      "cell_type": "code",
      "source": [
        "trigram_cv = pd.read_csv('/content/drive/MyDrive/Springboard DS/data/trigram_cv.csv')\n",
        "trigram_cv_test = pd.read_csv('/content/drive/MyDrive/Springboard DS/data/trigram_cv_test.csv')"
      ],
      "metadata": {
        "id": "xy3-4LS-YflV"
      },
      "execution_count": 3,
      "outputs": []
    },
    {
      "cell_type": "code",
      "source": [
        "# From TF-IDF Vectorizer\n",
        "bigram_tf = pd.read_csv('/content/drive/MyDrive/Springboard DS/data/bigram_tf.csv')\n",
        "bigram_tf_test = pd.read_csv('/content/drive/MyDrive/Springboard DS/data/bigram_tf_test.csv')"
      ],
      "metadata": {
        "id": "8WNUpH8ZYfaG"
      },
      "execution_count": 4,
      "outputs": []
    },
    {
      "cell_type": "code",
      "source": [
        "trigram_tf = pd.read_csv('/content/drive/MyDrive/Springboard DS/data/trigram_tf.csv')\n",
        "trigram_tf_test = pd.read_csv('/content/drive/MyDrive/Springboard DS/data/trigram_tf_test.csv')"
      ],
      "metadata": {
        "id": "ZQuB8LSrYfKO"
      },
      "execution_count": 5,
      "outputs": []
    },
    {
      "cell_type": "markdown",
      "source": [
        "# Distance measures"
      ],
      "metadata": {
        "id": "cJKLBUS22Iff"
      }
    },
    {
      "cell_type": "markdown",
      "source": [
        "## Binary matrix"
      ],
      "metadata": {
        "id": "ROyPK9cI2Qcj"
      }
    },
    {
      "cell_type": "markdown",
      "source": [
        "### Hamming distance"
      ],
      "metadata": {
        "id": "ZgYTTsf22enT"
      }
    },
    {
      "cell_type": "code",
      "source": [
        "hamming_bigram_cv = pairwise_distances(X=bigram_cv, metric='hamming')\n",
        "hamming_trigram_cv = pairwise_distances(X=trigram_cv, metric='hamming')\n",
        "\n",
        "hamming_bigram_cv_test = pairwise_distances(X=bigram_cv_test, metric='hamming')\n",
        "hamming_trigram_cv_test = pairwise_distances(X=trigram_cv_test, metric='hamming')"
      ],
      "metadata": {
        "id": "yCYSzOMEFo9F"
      },
      "execution_count": 6,
      "outputs": []
    },
    {
      "cell_type": "markdown",
      "source": [
        "Plot bigrams"
      ],
      "metadata": {
        "id": "WCvgP2sqYdgb"
      }
    },
    {
      "cell_type": "code",
      "source": [
        "fig, ax = plt.subplots(1,2, figsize=(20, 5))\n",
        "ax[0].imshow(hamming_bigram_cv, 'Greys')\n",
        "ax[1].imshow(hamming_bigram_cv_test, 'Greys')\n",
        "ax[0].set_title(\"Training data - bigrams - Hamming\")\n",
        "ax[1].set_title(\"Test data - bigrams - Hamming\")"
      ],
      "metadata": {
        "colab": {
          "base_uri": "https://localhost:8080/",
          "height": 330
        },
        "id": "zrwq7v_WYeqS",
        "outputId": "5020f7fb-d06b-4794-af00-7834ff76074b"
      },
      "execution_count": 7,
      "outputs": [
        {
          "output_type": "execute_result",
          "data": {
            "text/plain": [
              "Text(0.5, 1.0, 'Test data - bigrams - Hamming')"
            ]
          },
          "metadata": {},
          "execution_count": 7
        },
        {
          "output_type": "display_data",
          "data": {
            "text/plain": [
              "<Figure size 1440x360 with 2 Axes>"
            ],
            "image/png": "[encoded data removed]"
          },
          "metadata": {
            "needs_background": "light"
          }
        }
      ]
    },
    {
      "cell_type": "code",
      "source": [
        "hamming_bigram_tf = pairwise_distances(X=bigram_tf, metric='hamming')\n",
        "hamming_trigram_tf = pairwise_distances(X=trigram_tf, metric='hamming')\n",
        "\n",
        "hamming_bigram_tf_test = pairwise_distances(X=bigram_tf_test, metric='hamming')\n",
        "hamming_trigram_tf_test = pairwise_distances(X=trigram_tf_test, metric='hamming')"
      ],
      "metadata": {
        "id": "XMOcZjQuFm_A"
      },
      "execution_count": 8,
      "outputs": []
    },
    {
      "cell_type": "markdown",
      "source": [
        "Plot trigrams"
      ],
      "metadata": {
        "id": "K74_DaclY4nl"
      }
    },
    {
      "cell_type": "code",
      "source": [
        "fig, ax = plt.subplots(1,2, figsize=(20, 5))\n",
        "ax[0].imshow(hamming_trigram_cv, \"Greys\")\n",
        "ax[1].imshow(hamming_trigram_cv_test, \"Greys\")\n",
        "ax[0].set_title(\"Training data - trigrams - Hamming\")\n",
        "ax[1].set_title(\"Test data - trigrams - Hamming\")"
      ],
      "metadata": {
        "colab": {
          "base_uri": "https://localhost:8080/",
          "height": 330
        },
        "id": "MNLi5J-5Y6Dc",
        "outputId": "93b6c2de-fe09-4115-afdd-2c5b3d1edec8"
      },
      "execution_count": 9,
      "outputs": [
        {
          "output_type": "execute_result",
          "data": {
            "text/plain": [
              "Text(0.5, 1.0, 'Test data - trigrams - Hamming')"
            ]
          },
          "metadata": {},
          "execution_count": 9
        },
        {
          "output_type": "display_data",
          "data": {
            "text/plain": [
              "<Figure size 1440x360 with 2 Axes>"
            ],
            "image/png": "[encoded data removed]"
          },
          "metadata": {
            "needs_background": "light"
          }
        }
      ]
    },
    {
      "cell_type": "markdown",
      "source": [
        "### Jaccard index"
      ],
      "metadata": {
        "id": "1u9CWqwG2hDG"
      }
    },
    {
      "cell_type": "code",
      "source": [
        "# This cell crashes\n",
        "jaccard_bigram_cv = pairwise_distances(X=bigram_cv.values, metric='jaccard')\n",
        "jaccard_trigram_cv = pairwise_distances(X=trigram_cv.values, metric='jaccard')\n",
        "\n",
        "jaccard_bigram_cv_test = pairwise_distances(X=bigram_cv_test.values, metric='jaccard')\n",
        "jaccard_trigram_cv_test = pairwise_distances(X=trigram_cv_test.values, metric='jaccard')"
      ],
      "metadata": {
        "id": "ghAOjpesJr4B",
        "colab": {
          "base_uri": "https://localhost:8080/"
        },
        "outputId": "ba89b69b-b671-4f2f-96a4-2afdfe5b6a1a"
      },
      "execution_count": null,
      "outputs": [
        {
          "output_type": "stream",
          "name": "stderr",
          "text": [
            "/usr/local/lib/python3.7/dist-packages/sklearn/metrics/pairwise.py:1875: DataConversionWarning: Data was converted to boolean for metric jaccard\n",
            "  warnings.warn(msg, DataConversionWarning)\n",
            "/usr/local/lib/python3.7/dist-packages/sklearn/metrics/pairwise.py:1875: DataConversionWarning: Data was converted to boolean for metric jaccard\n",
            "  warnings.warn(msg, DataConversionWarning)\n"
          ]
        }
      ]
    },
    {
      "cell_type": "markdown",
      "source": [
        "Plot bigrams"
      ],
      "metadata": {
        "id": "w1d1BE5muGqb"
      }
    },
    {
      "cell_type": "code",
      "source": [
        "# This cell crashes\n",
        "fig, ax = plt.subplots(1,2)\n",
        "ax[0].imshow(jaccard_bigram_cv, \"Greys\")\n",
        "ax[1].imshow(jaccard_bigram_cv_test, \"Greys\")\n",
        "ax[0].set_title(\"Training data - bigrams - Jaccard\")\n",
        "ax[1].set_title(\"Test data - bigrams - Jaccard\")"
      ],
      "metadata": {
        "id": "jgitp646uFel"
      },
      "execution_count": null,
      "outputs": []
    },
    {
      "cell_type": "code",
      "source": [
        "# This cell crashes\n",
        "jaccard_bigram_tf = pairwise_distances(X=bigram_tf.values, metric='jaccard')\n",
        "jaccard_trigram_tf = pairwise_distances(X=trigram_tf.values, metric='jaccard')\n",
        "\n",
        "jaccard_bigram_tf_test = pairwise_distances(X=bigram_tf_test.values, metric='jaccard')\n",
        "jaccard_trigram_tf_test = pairwise_distances(X=trigram_tf_test.values, metric='jaccard')\n",
        "\n",
        "print(f\"The Jaccard index for the TF-IDF Vectorizer is {jaccard_bigram_tf} for the training bigrams and {jaccard_bigram_tf_test} for the test set\")\n",
        "print(f\"The Jaccard index for the trigrams is {jaccard_trigram_tf} for the training set and {jaccard_trigram_tf_test} for the test set\")"
      ],
      "metadata": {
        "id": "rWTUSYlVETt0"
      },
      "execution_count": null,
      "outputs": []
    },
    {
      "cell_type": "markdown",
      "source": [
        "Plot trigrams"
      ],
      "metadata": {
        "id": "w0VOPMqlZALU"
      }
    },
    {
      "cell_type": "code",
      "source": [
        "# This cell crashes\n",
        "fig, ax = plt.subplots(1,2)\n",
        "ax[0].imshow(jaccard_trigram_cv, \"Greys\")\n",
        "ax[1].imshow(jaccard_trigram_cv_test, \"Greys\")\n",
        "ax[0].set_title(\"Training data - trigrams - Jaccard\")\n",
        "ax[1].set_title(\"Test data - trigrams - Jaccard\")"
      ],
      "metadata": {
        "id": "97XhQOFJZBtF"
      },
      "execution_count": null,
      "outputs": []
    },
    {
      "cell_type": "markdown",
      "source": [
        "## Continuous matrix"
      ],
      "metadata": {
        "id": "Dc9usdpw2av8"
      }
    },
    {
      "cell_type": "markdown",
      "source": [
        "### Euclidean distance"
      ],
      "metadata": {
        "id": "Dz0x9D_y2jxD"
      }
    },
    {
      "cell_type": "code",
      "source": [
        "eucl_bigram_cv = pairwise_distances(X=bigram_cv.values, metric='euclidean')\n",
        "eucl_trigram_cv = pairwise_distances(X=trigram_cv.values, metric='euclidean')\n",
        "\n",
        "eucl_bigram_cv_test = pairwise_distances(X=bigram_cv_test.values, metric='euclidean')\n",
        "eucl_trigram_cv_test = pairwise_distances(X=trigram_cv_test.values, metric='euclidean')\n",
        "\n",
        "print(f\"The Euclidian distance for the CountVectorizer is {eucl_bigram_cv} for the training bigrams and {eucl_bigram_cv_test} for the test set\")\n",
        "print(f\"The Euclidian distance for the trigrams is {eucl_trigram_cv} for the training set and {eucl_trigram_cv_test} for the test set\")"
      ],
      "metadata": {
        "id": "tZFgesg4o-Ph",
        "colab": {
          "base_uri": "https://localhost:8080/"
        },
        "outputId": "27506eb3-86f4-4f2c-d698-a621f6a19b38"
      },
      "execution_count": 6,
      "outputs": [
        {
          "output_type": "stream",
          "name": "stdout",
          "text": [
            "The Euclidian distance for the CountVectorizer is [[0.00000000e+00 1.41421356e+00 2.00000000e+00 ... 1.84030000e+04\n",
            "  1.84040000e+04 1.84050001e+04]\n",
            " [1.41421356e+00 0.00000000e+00 1.41421356e+00 ... 1.84020001e+04\n",
            "  1.84030001e+04 1.84040001e+04]\n",
            " [2.00000000e+00 1.41421356e+00 0.00000000e+00 ... 1.84010000e+04\n",
            "  1.84020000e+04 1.84030001e+04]\n",
            " ...\n",
            " [1.84030000e+04 1.84020001e+04 1.84010000e+04 ... 0.00000000e+00\n",
            "  1.73205081e+00 2.44948974e+00]\n",
            " [1.84040000e+04 1.84030001e+04 1.84020000e+04 ... 1.73205081e+00\n",
            "  0.00000000e+00 2.23606798e+00]\n",
            " [1.84050001e+04 1.84040001e+04 1.84030001e+04 ... 2.44948974e+00\n",
            "  2.23606798e+00 0.00000000e+00]] for the training bigrams and [[0.00000000e+00 1.73205081e+00 3.16227766e+00 ... 9.06400011e+03\n",
            "  9.06500011e+03 9.06600011e+03]\n",
            " [1.73205081e+00 0.00000000e+00 2.23606798e+00 ... 9.06300000e+03\n",
            "  9.06400000e+03 9.06500000e+03]\n",
            " [3.16227766e+00 2.23606798e+00 0.00000000e+00 ... 9.06200022e+03\n",
            "  9.06300022e+03 9.06400022e+03]\n",
            " ...\n",
            " [9.06400011e+03 9.06300000e+03 9.06200022e+03 ... 0.00000000e+00\n",
            "  1.00000000e+00 2.00000000e+00]\n",
            " [9.06500011e+03 9.06400000e+03 9.06300022e+03 ... 1.00000000e+00\n",
            "  0.00000000e+00 1.00000000e+00]\n",
            " [9.06600011e+03 9.06500000e+03 9.06400022e+03 ... 2.00000000e+00\n",
            "  1.00000000e+00 0.00000000e+00]] for the test set\n",
            "The Euclidian distance for the trigrams is [[0.0000e+00 1.0000e+00 2.0000e+00 ... 1.8403e+04 1.8404e+04 1.8405e+04]\n",
            " [1.0000e+00 0.0000e+00 1.0000e+00 ... 1.8402e+04 1.8403e+04 1.8404e+04]\n",
            " [2.0000e+00 1.0000e+00 0.0000e+00 ... 1.8401e+04 1.8402e+04 1.8403e+04]\n",
            " ...\n",
            " [1.8403e+04 1.8402e+04 1.8401e+04 ... 0.0000e+00 1.0000e+00 2.0000e+00]\n",
            " [1.8404e+04 1.8403e+04 1.8402e+04 ... 1.0000e+00 0.0000e+00 1.0000e+00]\n",
            " [1.8405e+04 1.8404e+04 1.8403e+04 ... 2.0000e+00 1.0000e+00 0.0000e+00]] for the training set and [[0.00000000e+00 1.00000000e+00 2.23606798e+00 ... 9.06400000e+03\n",
            "  9.06500000e+03 9.06600000e+03]\n",
            " [1.00000000e+00 0.00000000e+00 1.41421356e+00 ... 9.06300000e+03\n",
            "  9.06400000e+03 9.06500000e+03]\n",
            " [2.23606798e+00 1.41421356e+00 0.00000000e+00 ... 9.06200006e+03\n",
            "  9.06300006e+03 9.06400006e+03]\n",
            " ...\n",
            " [9.06400000e+03 9.06300000e+03 9.06200006e+03 ... 0.00000000e+00\n",
            "  1.00000000e+00 2.00000000e+00]\n",
            " [9.06500000e+03 9.06400000e+03 9.06300006e+03 ... 1.00000000e+00\n",
            "  0.00000000e+00 1.00000000e+00]\n",
            " [9.06600000e+03 9.06500000e+03 9.06400006e+03 ... 2.00000000e+00\n",
            "  1.00000000e+00 0.00000000e+00]] for the test set\n"
          ]
        }
      ]
    },
    {
      "cell_type": "code",
      "source": [
        "eucl_bigram_tf = pairwise_distances(X=bigram_tf.values, metric='euclidean')\n",
        "eucl_trigram_tf = pairwise_distances(X=trigram_tf.values, metric='euclidean')\n",
        "\n",
        "eucl_bigram_tf_test = pairwise_distances(X=bigram_tf_test.values, metric='euclidean')\n",
        "eucl_trigram_tf_test = pairwise_distances(X=trigram_tf_test.values, metric='euclidean')\n",
        "\n",
        "print(f\"The Euclidian distance for the TF-IDF Vectorizer is {eucl_bigram_tf} for the training bigrams and {eucl_bigram_tf_test} for the test set\")\n",
        "print(f\"The Euclidian distance for the trigrams is {eucl_trigram_tf} for the training set and {eucl_trigram_tf_test} for the test set\")"
      ],
      "metadata": {
        "colab": {
          "base_uri": "https://localhost:8080/"
        },
        "id": "_4X5vZRvGMqt",
        "outputId": "1bbfb74e-db65-48bd-eecf-b0831063cb0f"
      },
      "execution_count": 7,
      "outputs": [
        {
          "output_type": "stream",
          "name": "stdout",
          "text": [
            "The Euclidian distance for the TF-IDF Vectorizer is [[0.00000000e+00 1.41421356e+00 2.00000000e+00 ... 1.84030000e+04\n",
            "  1.84040000e+04 1.84050000e+04]\n",
            " [1.41421356e+00 0.00000000e+00 1.41421356e+00 ... 1.84020001e+04\n",
            "  1.84030001e+04 1.84040001e+04]\n",
            " [2.00000000e+00 1.41421356e+00 0.00000000e+00 ... 1.84010000e+04\n",
            "  1.84020000e+04 1.84030000e+04]\n",
            " ...\n",
            " [1.84030000e+04 1.84020001e+04 1.84010000e+04 ... 0.00000000e+00\n",
            "  1.73205081e+00 2.30223418e+00]\n",
            " [1.84040000e+04 1.84030001e+04 1.84020000e+04 ... 1.73205081e+00\n",
            "  0.00000000e+00 1.73205081e+00]\n",
            " [1.84050000e+04 1.84040001e+04 1.84030000e+04 ... 2.30223418e+00\n",
            "  1.73205081e+00 0.00000000e+00]] for the training bigrams and [[0.00000000e+00 1.41421356e+00 2.44948974e+00 ... 9.06400006e+03\n",
            "  9.06500006e+03 9.06600006e+03]\n",
            " [1.41421356e+00 0.00000000e+00 1.41421356e+00 ... 9.06300000e+03\n",
            "  9.06400000e+03 9.06500000e+03]\n",
            " [2.44948974e+00 1.41421356e+00 0.00000000e+00 ... 9.06200006e+03\n",
            "  9.06300006e+03 9.06400006e+03]\n",
            " ...\n",
            " [9.06400006e+03 9.06300000e+03 9.06200006e+03 ... 0.00000000e+00\n",
            "  1.00000000e+00 2.00000000e+00]\n",
            " [9.06500006e+03 9.06400000e+03 9.06300006e+03 ... 1.00000000e+00\n",
            "  0.00000000e+00 1.00000000e+00]\n",
            " [9.06600006e+03 9.06500000e+03 9.06400006e+03 ... 2.00000000e+00\n",
            "  1.00000000e+00 0.00000000e+00]] for the test set\n",
            "The Euclidian distance for the trigrams is [[0.0000e+00 1.0000e+00 2.0000e+00 ... 1.8403e+04 1.8404e+04 1.8405e+04]\n",
            " [1.0000e+00 0.0000e+00 1.0000e+00 ... 1.8402e+04 1.8403e+04 1.8404e+04]\n",
            " [2.0000e+00 1.0000e+00 0.0000e+00 ... 1.8401e+04 1.8402e+04 1.8403e+04]\n",
            " ...\n",
            " [1.8403e+04 1.8402e+04 1.8401e+04 ... 0.0000e+00 1.0000e+00 2.0000e+00]\n",
            " [1.8404e+04 1.8403e+04 1.8402e+04 ... 1.0000e+00 0.0000e+00 1.0000e+00]\n",
            " [1.8405e+04 1.8404e+04 1.8403e+04 ... 2.0000e+00 1.0000e+00 0.0000e+00]] for the training set and [[0.00000000e+00 1.00000000e+00 2.23606798e+00 ... 9.06400000e+03\n",
            "  9.06500000e+03 9.06600000e+03]\n",
            " [1.00000000e+00 0.00000000e+00 1.41421356e+00 ... 9.06300000e+03\n",
            "  9.06400000e+03 9.06500000e+03]\n",
            " [2.23606798e+00 1.41421356e+00 0.00000000e+00 ... 9.06200006e+03\n",
            "  9.06300006e+03 9.06400006e+03]\n",
            " ...\n",
            " [9.06400000e+03 9.06300000e+03 9.06200006e+03 ... 0.00000000e+00\n",
            "  1.00000000e+00 2.00000000e+00]\n",
            " [9.06500000e+03 9.06400000e+03 9.06300006e+03 ... 1.00000000e+00\n",
            "  0.00000000e+00 1.00000000e+00]\n",
            " [9.06600000e+03 9.06500000e+03 9.06400006e+03 ... 2.00000000e+00\n",
            "  1.00000000e+00 0.00000000e+00]] for the test set\n"
          ]
        }
      ]
    },
    {
      "cell_type": "markdown",
      "source": [
        "### Cosine similarity"
      ],
      "metadata": {
        "id": "05f1SmB_2kJb"
      }
    },
    {
      "cell_type": "code",
      "source": [
        "cosine_bigram_cv = pairwise_distances(X=bigram_cv, metric='cosine')\n",
        "cosine_trigram_cv = pairwise_distances(X=trigram_cv, metric='cosine')\n",
        "\n",
        "cosine_bigram_cv_test = pairwise_distances(X=bigram_cv_test, metric='cosine')\n",
        "cosine_trigram_cv_test = pairwise_distances(X=trigram_cv_test, metric='cosine')\n",
        "\n",
        "print(f\"The cosine similarity for the CountVectorizer is {cosine_bigram_cv} for the training bigrams and {cosine_bigram_cv_test} for the test set\")\n",
        "print(f\"The cosine similarity for the trigrams is {cosine_trigram_cv} for the training set and {cosine_trigram_cv_test} for the test set\")"
      ],
      "metadata": {
        "id": "YX8DHKLOpQ8z",
        "colab": {
          "base_uri": "https://localhost:8080/"
        },
        "outputId": "db2ef454-0a2d-437e-c057-999f035c577e"
      },
      "execution_count": 8,
      "outputs": [
        {
          "output_type": "stream",
          "name": "stdout",
          "text": [
            "The cosine similarity for the CountVectorizer is [[1.00000000e+00 1.00000000e+00 1.00000000e+00 ... 1.00000000e+00\n",
            "  1.00000000e+00 1.00000000e+00]\n",
            " [1.00000000e+00 2.22044605e-16 2.92893219e-01 ... 2.92893220e-01\n",
            "  2.92893220e-01 2.92893222e-01]\n",
            " [1.00000000e+00 2.92893219e-01 0.00000000e+00 ... 1.47636170e-09\n",
            "  1.47620127e-09 4.42812231e-09]\n",
            " ...\n",
            " [1.00000000e+00 2.92893220e-01 1.47636170e-09 ... 1.11022302e-16\n",
            "  2.95256297e-09 2.95208158e-09]\n",
            " [1.00000000e+00 2.92893220e-01 1.47620127e-09 ... 2.95256297e-09\n",
            "  1.11022302e-16 5.90432359e-09]\n",
            " [1.00000000e+00 2.92893222e-01 4.42812231e-09 ... 2.95208158e-09\n",
            "  5.90432359e-09 0.00000000e+00]] for the training bigrams and [[2.22044605e-16 1.00000000e+00 1.00000000e+00 ... 1.00000000e+00\n",
            "  1.00000000e+00 1.00000000e+00]\n",
            " [1.00000000e+00 0.00000000e+00 2.92893219e-01 ... 0.00000000e+00\n",
            "  0.00000000e+00 0.00000000e+00]\n",
            " [1.00000000e+00 2.92893219e-01 2.22044605e-16 ... 2.92893219e-01\n",
            "  2.92893219e-01 2.92893219e-01]\n",
            " ...\n",
            " [1.00000000e+00 0.00000000e+00 2.92893219e-01 ... 0.00000000e+00\n",
            "  0.00000000e+00 0.00000000e+00]\n",
            " [1.00000000e+00 0.00000000e+00 2.92893219e-01 ... 0.00000000e+00\n",
            "  0.00000000e+00 0.00000000e+00]\n",
            " [1.00000000e+00 0.00000000e+00 2.92893219e-01 ... 0.00000000e+00\n",
            "  0.00000000e+00 0.00000000e+00]] for the test set\n",
            "The cosine similarity for the trigrams is [[1. 1. 1. ... 1. 1. 1.]\n",
            " [1. 0. 0. ... 0. 0. 0.]\n",
            " [1. 0. 0. ... 0. 0. 0.]\n",
            " ...\n",
            " [1. 0. 0. ... 0. 0. 0.]\n",
            " [1. 0. 0. ... 0. 0. 0.]\n",
            " [1. 0. 0. ... 0. 0. 0.]] for the training set and [[1.00000000e+00 1.00000000e+00 1.00000000e+00 ... 1.00000000e+00\n",
            "  1.00000000e+00 1.00000000e+00]\n",
            " [1.00000000e+00 0.00000000e+00 1.05572809e-01 ... 0.00000000e+00\n",
            "  0.00000000e+00 0.00000000e+00]\n",
            " [1.00000000e+00 1.05572809e-01 1.11022302e-16 ... 1.05572809e-01\n",
            "  1.05572809e-01 1.05572809e-01]\n",
            " ...\n",
            " [1.00000000e+00 0.00000000e+00 1.05572809e-01 ... 0.00000000e+00\n",
            "  0.00000000e+00 0.00000000e+00]\n",
            " [1.00000000e+00 0.00000000e+00 1.05572809e-01 ... 0.00000000e+00\n",
            "  0.00000000e+00 0.00000000e+00]\n",
            " [1.00000000e+00 0.00000000e+00 1.05572809e-01 ... 0.00000000e+00\n",
            "  0.00000000e+00 0.00000000e+00]] for the test set\n"
          ]
        }
      ]
    },
    {
      "cell_type": "code",
      "source": [
        "# This cell crashes\n",
        "cosine_bigram_tf = pairwise_distances(X=bigram_tf, metric='cosine')\n",
        "cosine_trigram_tf = pairwise_distances(X=trigram_tf, metric='cosine')\n",
        "\n",
        "cosine_bigram_tf_test = pairwise_distances(X=bigram_tf_test, metric='cosine')\n",
        "cosine_trigram_tf_test = pairwise_distances(X=trigram_tf_test, metric='cosine')\n",
        "\n",
        "print(f\"The cosine similarity for the TF-IDF Vectorizer is {cosine_bigram_tf} for the training bigrams and {cosine_bigram_tf_test} for the test set\")\n",
        "print(f\"The cosine similarity for the trigrams is {cosine_trigram_tf} for the training set and {cosine_trigram_tf_test} for the test set\")"
      ],
      "metadata": {
        "id": "bsLSBgoBXRKu"
      },
      "execution_count": null,
      "outputs": []
    },
    {
      "cell_type": "markdown",
      "source": [
        "# Clustering: K-Means"
      ],
      "metadata": {
        "id": "4zDMCHd_2K4g"
      }
    },
    {
      "cell_type": "markdown",
      "source": [
        "Set up KMeans, calculate clusters from labels, fit to training data, and predict y_pred for each"
      ],
      "metadata": {
        "id": "Pxhe7O5_rKYr"
      }
    },
    {
      "cell_type": "code",
      "source": [
        "true_k_bigram_cv = np.unique(bigram_cv.columns).shape[0]\n",
        "true_k_trigram_cv = np.unique(trigram_cv.columns).shape[0]\n",
        "\n",
        "true_k_bigram_tf = np.unique(bigram_tf.columns).shape[0]\n",
        "true_k_trigram_tf = np.unique(trigram_tf.columns).shape[0]\n",
        "# Pulled the concept for true_k from: https://scikit-learn.org/stable/auto_examples/text/plot_document_clustering.html#sphx-glr-auto-examples-text-plot-document-clustering-py\n",
        "\n",
        "bigram_cv_kmeans_pred = MiniBatchKMeans(n_clusters=true_k_bigram_cv, init='k-means++',\n",
        "                                        random_state=42, batch_size=1024).fit_predict(bigram_cv)\n",
        "trigram_cv_kmeans_pred = MiniBatchKMeans(n_clusters=true_k_trigram_cv, init='k-means++',\n",
        "                                         random_state=42, batch_size=1024).fit_predict(trigram_cv)\n",
        "\n",
        "bigram_tf_kmeans_pred = MiniBatchKMeans(n_clusters=true_k_bigram_tf, init='k-means++',\n",
        "                                        random_state=42, batch_size=1024).fit_predict(bigram_tf)\n",
        "trigram_tf_kmeans_pred = MiniBatchKMeans(n_clusters=true_k_trigram_tf, init='k-means++',\n",
        "                                         random_state=42, batch_size=1024).fit_predict(trigram_tf)"
      ],
      "metadata": {
        "id": "X0RQsexbp__5"
      },
      "execution_count": 6,
      "outputs": []
    },
    {
      "cell_type": "markdown",
      "source": [
        "Metrics from running KMeans"
      ],
      "metadata": {
        "id": "YP8UwNP8TST4"
      }
    },
    {
      "cell_type": "code",
      "source": [
        "print(\"Bigrams - CountVectorizer\")\n",
        "print(\"Homogeneity: %0.3f\" % metrics.homogeneity_score(bigram_cv.columns, bigram_cv_kmeans_pred.labels_))\n",
        "print(\"Completeness: %0.3f\" % metrics.completeness_score(bigram_cv.columns, bigram_cv_kmeans_pred.labels_))\n",
        "print(\"V-measure: %0.3f\" % metrics.v_measure_score(bigram_cv.columns, bigram_cv_kmeans_pred.labels_))\n",
        "print(\"Adjusted Rand-Index: %.3f\" % metrics.adjusted_rand_score(bigram_cv.columns, bigram_cv_kmeans_pred.labels_))\n",
        "\n",
        "print()\n",
        "print(\"Trigrams - CountVectorizer\")\n",
        "print(\"Homogeneity: %0.3f\" % metrics.homogeneity_score(trigram_cv.columns, trigram_cv_kmeans_pred.labels_))\n",
        "print(\"Completeness: %0.3f\" % metrics.completeness_score(trigram_cv.columns, trigram_cv_kmeans_pred.labels_))\n",
        "print(\"V-measure: %0.3f\" % metrics.v_measure_score(trigram_cv.columns, trigram_cv_kmeans_pred.labels_))\n",
        "print(\"Adjusted Rand-Index: %.3f\" % metrics.adjusted_rand_score(trigram_cv.columns, trigram_cv_kmeans_pred.labels_))\n",
        "\n",
        "print()\n",
        "print(\"Bigrams - TF-IDF Vectorizer\")\n",
        "print(\"Homogeneity: %0.3f\" % metrics.homogeneity_score(bigram_tf.columns, bigram_tf_kmeans_pred.labels_))\n",
        "print(\"Completeness: %0.3f\" % metrics.completeness_score(bigram_tf.columns, bigram_tf_kmeans_pred.labels_))\n",
        "print(\"V-measure: %0.3f\" % metrics.v_measure_score(bigram_tf.columns, bigram_tf_kmeans_pred.labels_))\n",
        "print(\"Adjusted Rand-Index: %.3f\" % metrics.adjusted_rand_score(bigram_tf.columns, bigram_tf_kmeans_pred.labels_))\n",
        "\n",
        "print()\n",
        "print(\"Trigrams - TF-IDF Vectorizer\")\n",
        "print(\"Homogeneity: %0.3f\" % metrics.homogeneity_score(trigram_tf.columns, trigram_tf_kmeans_pred.labels_))\n",
        "print(\"Completeness: %0.3f\" % metrics.completeness_score(trigram_tf.columns, trigram_tf_kmeans_pred.labels_))\n",
        "print(\"V-measure: %0.3f\" % metrics.v_measure_score(trigram_tf.columns, trigram_tf_kmeans_pred.labels_))\n",
        "print(\"Adjusted Rand-Index: %.3f\" % metrics.adjusted_rand_score(trigram_tf.columns, trigram_tf_kmeans_pred.labels_))"
      ],
      "metadata": {
        "id": "h5UVBaRQTWBK",
        "colab": {
          "base_uri": "https://localhost:8080/",
          "height": 337
        },
        "outputId": "22fc0320-f337-4581-aea4-86ff28e7e453"
      },
      "execution_count": 7,
      "outputs": [
        {
          "output_type": "stream",
          "name": "stdout",
          "text": [
            "Bigrams - CountVectorizer\n"
          ]
        },
        {
          "output_type": "error",
          "ename": "AttributeError",
          "evalue": "ignored",
          "traceback": [
            "\u001b[0;31m---------------------------------------------------------------------------\u001b[0m",
            "\u001b[0;31mAttributeError\u001b[0m                            Traceback (most recent call last)",
            "\u001b[0;32m<ipython-input-7-9a90be3f9592>\u001b[0m in \u001b[0;36m<module>\u001b[0;34m()\u001b[0m\n\u001b[1;32m      1\u001b[0m \u001b[0mprint\u001b[0m\u001b[0;34m(\u001b[0m\u001b[0;34m\"Bigrams - CountVectorizer\"\u001b[0m\u001b[0;34m)\u001b[0m\u001b[0;34m\u001b[0m\u001b[0;34m\u001b[0m\u001b[0m\n\u001b[0;32m----> 2\u001b[0;31m \u001b[0mprint\u001b[0m\u001b[0;34m(\u001b[0m\u001b[0;34m\"Homogeneity: %0.3f\"\u001b[0m \u001b[0;34m%\u001b[0m \u001b[0mmetrics\u001b[0m\u001b[0;34m.\u001b[0m\u001b[0mhomogeneity_score\u001b[0m\u001b[0;34m(\u001b[0m\u001b[0mbigram_cv\u001b[0m\u001b[0;34m.\u001b[0m\u001b[0mcolumns\u001b[0m\u001b[0;34m,\u001b[0m \u001b[0mbigram_cv_kmeans_pred\u001b[0m\u001b[0;34m.\u001b[0m\u001b[0mlabels_\u001b[0m\u001b[0;34m)\u001b[0m\u001b[0;34m)\u001b[0m\u001b[0;34m\u001b[0m\u001b[0;34m\u001b[0m\u001b[0m\n\u001b[0m\u001b[1;32m      3\u001b[0m \u001b[0mprint\u001b[0m\u001b[0;34m(\u001b[0m\u001b[0;34m\"Completeness: %0.3f\"\u001b[0m \u001b[0;34m%\u001b[0m \u001b[0mmetrics\u001b[0m\u001b[0;34m.\u001b[0m\u001b[0mcompleteness_score\u001b[0m\u001b[0;34m(\u001b[0m\u001b[0mbigram_cv\u001b[0m\u001b[0;34m.\u001b[0m\u001b[0mcolumns\u001b[0m\u001b[0;34m,\u001b[0m \u001b[0mbigram_cv_kmeans_pred\u001b[0m\u001b[0;34m.\u001b[0m\u001b[0mlabels_\u001b[0m\u001b[0;34m)\u001b[0m\u001b[0;34m)\u001b[0m\u001b[0;34m\u001b[0m\u001b[0;34m\u001b[0m\u001b[0m\n\u001b[1;32m      4\u001b[0m \u001b[0mprint\u001b[0m\u001b[0;34m(\u001b[0m\u001b[0;34m\"V-measure: %0.3f\"\u001b[0m \u001b[0;34m%\u001b[0m \u001b[0mmetrics\u001b[0m\u001b[0;34m.\u001b[0m\u001b[0mv_measure_score\u001b[0m\u001b[0;34m(\u001b[0m\u001b[0mbigram_cv\u001b[0m\u001b[0;34m.\u001b[0m\u001b[0mcolumns\u001b[0m\u001b[0;34m,\u001b[0m \u001b[0mbigram_cv_kmeans_pred\u001b[0m\u001b[0;34m.\u001b[0m\u001b[0mlabels_\u001b[0m\u001b[0;34m)\u001b[0m\u001b[0;34m)\u001b[0m\u001b[0;34m\u001b[0m\u001b[0;34m\u001b[0m\u001b[0m\n\u001b[1;32m      5\u001b[0m \u001b[0mprint\u001b[0m\u001b[0;34m(\u001b[0m\u001b[0;34m\"Adjusted Rand-Index: %.3f\"\u001b[0m \u001b[0;34m%\u001b[0m \u001b[0mmetrics\u001b[0m\u001b[0;34m.\u001b[0m\u001b[0madjusted_rand_score\u001b[0m\u001b[0;34m(\u001b[0m\u001b[0mbigram_cv\u001b[0m\u001b[0;34m.\u001b[0m\u001b[0mcolumns\u001b[0m\u001b[0;34m,\u001b[0m \u001b[0mbigram_cv_kmeans_pred\u001b[0m\u001b[0;34m.\u001b[0m\u001b[0mlabels_\u001b[0m\u001b[0;34m)\u001b[0m\u001b[0;34m)\u001b[0m\u001b[0;34m\u001b[0m\u001b[0;34m\u001b[0m\u001b[0m\n",
            "\u001b[0;31mAttributeError\u001b[0m: 'numpy.ndarray' object has no attribute 'labels_'"
          ]
        }
      ]
    },
    {
      "cell_type": "markdown",
      "source": [
        "Top terms per cluster"
      ],
      "metadata": {
        "id": "gzHxOJasVHvV"
      }
    },
    {
      "cell_type": "code",
      "source": [
        "print(\"Top terms: bigrams from CountVectorizer\")\n",
        "bi_cv_order_centroids = bigram_cv_kmeans_pred.cluster_centers_.argsort()[:, ::-1]\n",
        "\n",
        "for i in range(true_k_bigram_cv):\n",
        "    print(\"Cluster %d:\" % i, end=\"\")\n",
        "    for ind in bi_cv_order_centroids[i, :10]:\n",
        "        print(\" %s\" % bigram_cv.columns[ind], end=\"\")\n",
        "    print()\n",
        "\n",
        "\n",
        "print(\"Top terms: trigrams from CountVectorizer\")\n",
        "tri_cv_order_centroids = trigram_cv_kmeans_pred.cluster_centers_.argsort()[:, ::-1]\n",
        "\n",
        "for i in range(true_k_trigram_cv):\n",
        "    print(\"Cluster %d:\" % i, end=\"\")\n",
        "    for ind in tri_cv_order_centroids[i, :10]:\n",
        "        print(\" %s\" % trigram_cv.columns[ind], end=\"\")\n",
        "    print()\n",
        "\n",
        "\n",
        "print(\"Top terms: bigrams from TF-IDF Vectorizer\")\n",
        "bi_tf_order_centroids = bigram_tf_kmeans_pred.cluster_centers_.argsort()[:, ::-1]\n",
        "\n",
        "for i in range(true_k_bigram_tf):\n",
        "    print(\"Cluster %d:\" % i, end=\"\")\n",
        "    for ind in bi_tf_order_centroids[i, :10]:\n",
        "        print(\" %s\" % bigram_tf.columns[ind], end=\"\")\n",
        "    print()\n",
        "\n",
        "\n",
        "print(\"Top terms: bigrams from TF-IDF Vectorizer\")\n",
        "tri_tf_order_centroids = trigram_tf_kmeans_pred.cluster_centers_.argsort()[:, ::-1]\n",
        "\n",
        "for i in range(true_k_trigram_tf):\n",
        "    print(\"Cluster %d:\" % i, end=\"\")\n",
        "    for ind in tri_tf_order_centroids[i, :10]:\n",
        "        print(\" %s\" % trigram_tf.columns[ind], end=\"\")\n",
        "    print()"
      ],
      "metadata": {
        "id": "8YoFRweYVG8X",
        "colab": {
          "base_uri": "https://localhost:8080/",
          "height": 263
        },
        "outputId": "38c5d6e6-7022-4ac5-fb70-8951c9bfe838"
      },
      "execution_count": 8,
      "outputs": [
        {
          "output_type": "stream",
          "name": "stdout",
          "text": [
            "Top terms: bigrams from CountVectorizer\n"
          ]
        },
        {
          "output_type": "error",
          "ename": "AttributeError",
          "evalue": "ignored",
          "traceback": [
            "\u001b[0;31m---------------------------------------------------------------------------\u001b[0m",
            "\u001b[0;31mAttributeError\u001b[0m                            Traceback (most recent call last)",
            "\u001b[0;32m<ipython-input-8-8dd6bc8233ea>\u001b[0m in \u001b[0;36m<module>\u001b[0;34m()\u001b[0m\n\u001b[1;32m      1\u001b[0m \u001b[0mprint\u001b[0m\u001b[0;34m(\u001b[0m\u001b[0;34m\"Top terms: bigrams from CountVectorizer\"\u001b[0m\u001b[0;34m)\u001b[0m\u001b[0;34m\u001b[0m\u001b[0;34m\u001b[0m\u001b[0m\n\u001b[0;32m----> 2\u001b[0;31m \u001b[0mbi_cv_order_centroids\u001b[0m \u001b[0;34m=\u001b[0m \u001b[0mbigram_cv_kmeans_pred\u001b[0m\u001b[0;34m.\u001b[0m\u001b[0mcluster_centers_\u001b[0m\u001b[0;34m.\u001b[0m\u001b[0margsort\u001b[0m\u001b[0;34m(\u001b[0m\u001b[0;34m)\u001b[0m\u001b[0;34m[\u001b[0m\u001b[0;34m:\u001b[0m\u001b[0;34m,\u001b[0m \u001b[0;34m:\u001b[0m\u001b[0;34m:\u001b[0m\u001b[0;34m-\u001b[0m\u001b[0;36m1\u001b[0m\u001b[0;34m]\u001b[0m\u001b[0;34m\u001b[0m\u001b[0;34m\u001b[0m\u001b[0m\n\u001b[0m\u001b[1;32m      3\u001b[0m \u001b[0;34m\u001b[0m\u001b[0m\n\u001b[1;32m      4\u001b[0m \u001b[0;32mfor\u001b[0m \u001b[0mi\u001b[0m \u001b[0;32min\u001b[0m \u001b[0mrange\u001b[0m\u001b[0;34m(\u001b[0m\u001b[0mtrue_k_bigram_cv\u001b[0m\u001b[0;34m)\u001b[0m\u001b[0;34m:\u001b[0m\u001b[0;34m\u001b[0m\u001b[0;34m\u001b[0m\u001b[0m\n\u001b[1;32m      5\u001b[0m     \u001b[0mprint\u001b[0m\u001b[0;34m(\u001b[0m\u001b[0;34m\"Cluster %d:\"\u001b[0m \u001b[0;34m%\u001b[0m \u001b[0mi\u001b[0m\u001b[0;34m,\u001b[0m \u001b[0mend\u001b[0m\u001b[0;34m=\u001b[0m\u001b[0;34m\"\"\u001b[0m\u001b[0;34m)\u001b[0m\u001b[0;34m\u001b[0m\u001b[0;34m\u001b[0m\u001b[0m\n",
            "\u001b[0;31mAttributeError\u001b[0m: 'numpy.ndarray' object has no attribute 'cluster_centers_'"
          ]
        }
      ]
    },
    {
      "cell_type": "markdown",
      "source": [
        "# Topic modeling"
      ],
      "metadata": {
        "id": "N1UjajT82NbI"
      }
    },
    {
      "cell_type": "markdown",
      "source": [
        "## NMF"
      ],
      "metadata": {
        "id": "neOCsj6c2rxE"
      }
    },
    {
      "cell_type": "markdown",
      "source": [
        "Instantiate model"
      ],
      "metadata": {
        "id": "-hRpPDhsb9SC"
      }
    },
    {
      "cell_type": "code",
      "source": [
        "nmf_model = NMF(n_components=2, init='nndsvdar', random_state=42, max_iter=100)"
      ],
      "metadata": {
        "id": "YnK8GUg8b-su"
      },
      "execution_count": 9,
      "outputs": []
    },
    {
      "cell_type": "markdown",
      "source": [
        "Fit CrossVectorized training sets with NMF"
      ],
      "metadata": {
        "id": "D8oMPndech_j"
      }
    },
    {
      "cell_type": "code",
      "source": [
        "nmf_topics_bigram_cv = nmf_model.fit_transform(bigram_cv)\n",
        "nmf_topics_trigram_cv = nmf_model.fit_transform(trigram_cv)"
      ],
      "metadata": {
        "id": "NUr1jd9Gcyzh"
      },
      "execution_count": 10,
      "outputs": []
    },
    {
      "cell_type": "markdown",
      "source": [
        "Transform CrossVectorized training sets with NMF"
      ],
      "metadata": {
        "id": "FcfosSW1ck4p"
      }
    },
    {
      "cell_type": "code",
      "source": [
        "nmf_topics_bigram_cv_test = nmf_model.transform(bigram_cv_test)\n",
        "nmf_topics_trigram_cv_test = nmf_model.transform(trigram_cv_test)"
      ],
      "metadata": {
        "colab": {
          "base_uri": "https://localhost:8080/",
          "height": 674
        },
        "id": "FJk-EWP-c3Rp",
        "outputId": "db12688f-532a-472a-fba3-ead7e093f517"
      },
      "execution_count": 11,
      "outputs": [
        {
          "output_type": "stream",
          "name": "stderr",
          "text": [
            "/usr/local/lib/python3.7/dist-packages/sklearn/base.py:493: FutureWarning: The feature names should match those that were passed during fit. Starting version 1.2, an error will be raised.\n",
            "Feature names unseen at fit time:\n",
            "- absolutely love\n",
            "- abstract games\n",
            "- abstract strategy\n",
            "- action cards\n",
            "- action selection\n",
            "- ...\n",
            "Feature names seen at fit time, yet now missing:\n",
            "- boardgamegeek com thread\n",
            "- cards don t\n",
            "- didn t enjoy\n",
            "- didn t feel\n",
            "- didn t think\n",
            "- ...\n",
            "\n",
            "  warnings.warn(message, FutureWarning)\n"
          ]
        },
        {
          "output_type": "error",
          "ename": "ValueError",
          "evalue": "ignored",
          "traceback": [
            "\u001b[0;31m---------------------------------------------------------------------------\u001b[0m",
            "\u001b[0;31mValueError\u001b[0m                                Traceback (most recent call last)",
            "\u001b[0;32m<ipython-input-11-b5685eac9f6c>\u001b[0m in \u001b[0;36m<module>\u001b[0;34m()\u001b[0m\n\u001b[0;32m----> 1\u001b[0;31m \u001b[0mnmf_topics_bigram_cv_test\u001b[0m \u001b[0;34m=\u001b[0m \u001b[0mnmf_model\u001b[0m\u001b[0;34m.\u001b[0m\u001b[0mtransform\u001b[0m\u001b[0;34m(\u001b[0m\u001b[0mbigram_cv_test\u001b[0m\u001b[0;34m)\u001b[0m\u001b[0;34m\u001b[0m\u001b[0;34m\u001b[0m\u001b[0m\n\u001b[0m\u001b[1;32m      2\u001b[0m \u001b[0mnmf_topics_trigram_cv_test\u001b[0m \u001b[0;34m=\u001b[0m \u001b[0mnmf_model\u001b[0m\u001b[0;34m.\u001b[0m\u001b[0mtransform\u001b[0m\u001b[0;34m(\u001b[0m\u001b[0mtrigram_cv_test\u001b[0m\u001b[0;34m)\u001b[0m\u001b[0;34m\u001b[0m\u001b[0;34m\u001b[0m\u001b[0m\n",
            "\u001b[0;32m/usr/local/lib/python3.7/dist-packages/sklearn/decomposition/_nmf.py\u001b[0m in \u001b[0;36mtransform\u001b[0;34m(self, X)\u001b[0m\n\u001b[1;32m   1684\u001b[0m         \u001b[0mcheck_is_fitted\u001b[0m\u001b[0;34m(\u001b[0m\u001b[0mself\u001b[0m\u001b[0;34m)\u001b[0m\u001b[0;34m\u001b[0m\u001b[0;34m\u001b[0m\u001b[0m\n\u001b[1;32m   1685\u001b[0m         X = self._validate_data(\n\u001b[0;32m-> 1686\u001b[0;31m             \u001b[0mX\u001b[0m\u001b[0;34m,\u001b[0m \u001b[0maccept_sparse\u001b[0m\u001b[0;34m=\u001b[0m\u001b[0;34m(\u001b[0m\u001b[0;34m\"csr\"\u001b[0m\u001b[0;34m,\u001b[0m \u001b[0;34m\"csc\"\u001b[0m\u001b[0;34m)\u001b[0m\u001b[0;34m,\u001b[0m \u001b[0mdtype\u001b[0m\u001b[0;34m=\u001b[0m\u001b[0;34m[\u001b[0m\u001b[0mnp\u001b[0m\u001b[0;34m.\u001b[0m\u001b[0mfloat64\u001b[0m\u001b[0;34m,\u001b[0m \u001b[0mnp\u001b[0m\u001b[0;34m.\u001b[0m\u001b[0mfloat32\u001b[0m\u001b[0;34m]\u001b[0m\u001b[0;34m,\u001b[0m \u001b[0mreset\u001b[0m\u001b[0;34m=\u001b[0m\u001b[0;32mFalse\u001b[0m\u001b[0;34m\u001b[0m\u001b[0;34m\u001b[0m\u001b[0m\n\u001b[0m\u001b[1;32m   1687\u001b[0m         )\n\u001b[1;32m   1688\u001b[0m \u001b[0;34m\u001b[0m\u001b[0m\n",
            "\u001b[0;32m/usr/local/lib/python3.7/dist-packages/sklearn/base.py\u001b[0m in \u001b[0;36m_validate_data\u001b[0;34m(self, X, y, reset, validate_separately, **check_params)\u001b[0m\n\u001b[1;32m    583\u001b[0m \u001b[0;34m\u001b[0m\u001b[0m\n\u001b[1;32m    584\u001b[0m         \u001b[0;32mif\u001b[0m \u001b[0;32mnot\u001b[0m \u001b[0mno_val_X\u001b[0m \u001b[0;32mand\u001b[0m \u001b[0mcheck_params\u001b[0m\u001b[0;34m.\u001b[0m\u001b[0mget\u001b[0m\u001b[0;34m(\u001b[0m\u001b[0;34m\"ensure_2d\"\u001b[0m\u001b[0;34m,\u001b[0m \u001b[0;32mTrue\u001b[0m\u001b[0;34m)\u001b[0m\u001b[0;34m:\u001b[0m\u001b[0;34m\u001b[0m\u001b[0;34m\u001b[0m\u001b[0m\n\u001b[0;32m--> 585\u001b[0;31m             \u001b[0mself\u001b[0m\u001b[0;34m.\u001b[0m\u001b[0m_check_n_features\u001b[0m\u001b[0;34m(\u001b[0m\u001b[0mX\u001b[0m\u001b[0;34m,\u001b[0m \u001b[0mreset\u001b[0m\u001b[0;34m=\u001b[0m\u001b[0mreset\u001b[0m\u001b[0;34m)\u001b[0m\u001b[0;34m\u001b[0m\u001b[0;34m\u001b[0m\u001b[0m\n\u001b[0m\u001b[1;32m    586\u001b[0m \u001b[0;34m\u001b[0m\u001b[0m\n\u001b[1;32m    587\u001b[0m         \u001b[0;32mreturn\u001b[0m \u001b[0mout\u001b[0m\u001b[0;34m\u001b[0m\u001b[0;34m\u001b[0m\u001b[0m\n",
            "\u001b[0;32m/usr/local/lib/python3.7/dist-packages/sklearn/base.py\u001b[0m in \u001b[0;36m_check_n_features\u001b[0;34m(self, X, reset)\u001b[0m\n\u001b[1;32m    399\u001b[0m         \u001b[0;32mif\u001b[0m \u001b[0mn_features\u001b[0m \u001b[0;34m!=\u001b[0m \u001b[0mself\u001b[0m\u001b[0;34m.\u001b[0m\u001b[0mn_features_in_\u001b[0m\u001b[0;34m:\u001b[0m\u001b[0;34m\u001b[0m\u001b[0;34m\u001b[0m\u001b[0m\n\u001b[1;32m    400\u001b[0m             raise ValueError(\n\u001b[0;32m--> 401\u001b[0;31m                 \u001b[0;34mf\"X has {n_features} features, but {self.__class__.__name__} \"\u001b[0m\u001b[0;34m\u001b[0m\u001b[0;34m\u001b[0m\u001b[0m\n\u001b[0m\u001b[1;32m    402\u001b[0m                 \u001b[0;34mf\"is expecting {self.n_features_in_} features as input.\"\u001b[0m\u001b[0;34m\u001b[0m\u001b[0;34m\u001b[0m\u001b[0m\n\u001b[1;32m    403\u001b[0m             )\n",
            "\u001b[0;31mValueError\u001b[0m: X has 515 features, but NMF is expecting 44 features as input."
          ]
        }
      ]
    },
    {
      "cell_type": "markdown",
      "source": [
        "Output components from Count Vectorizer test data"
      ],
      "metadata": {
        "id": "38o8Yv07afkZ"
      }
    },
    {
      "cell_type": "code",
      "source": [
        "components_bigram_cv_df = pd.DataFrame(nmf_topics_bigram_cv_test.components_, columns=bigram_cv.columns)\n",
        "components_trigram_cv_df = pd.DataFrame(nmf_topics_trigram_cv_test.components_, columns=trigram_cv.columns)\n",
        "\n",
        "for topic in range(components_bigram_cv_df.shape[0]):\n",
        "    tmp = components_bigram_cv_df.iloc[topic]\n",
        "    print(f'For topic {topic+1} the words with the highest value are:')\n",
        "    print(tmp.nlargest(10))\n",
        "    print('\\n')\n",
        "\n",
        "for topic in range(components_trigram_cv_df.shape[0]):\n",
        "    tmp = components_trigram_cv_df.iloc[topic]\n",
        "    print(f'For topic {topic+1} the words with the highest value are:')\n",
        "    print(tmp.nlargest(10))\n",
        "    print('\\n')"
      ],
      "metadata": {
        "colab": {
          "base_uri": "https://localhost:8080/",
          "height": 281
        },
        "id": "bd7f7kHUaU1w",
        "outputId": "30744c2d-4c1d-4b7e-8da5-49411c3a2970"
      },
      "execution_count": 12,
      "outputs": [
        {
          "output_type": "error",
          "ename": "NameError",
          "evalue": "ignored",
          "traceback": [
            "\u001b[0;31m---------------------------------------------------------------------------\u001b[0m",
            "\u001b[0;31mNameError\u001b[0m                                 Traceback (most recent call last)",
            "\u001b[0;32m<ipython-input-12-69c1348df9d1>\u001b[0m in \u001b[0;36m<module>\u001b[0;34m()\u001b[0m\n\u001b[0;32m----> 1\u001b[0;31m \u001b[0mcomponents_bigram_cv_df\u001b[0m \u001b[0;34m=\u001b[0m \u001b[0mpd\u001b[0m\u001b[0;34m.\u001b[0m\u001b[0mDataFrame\u001b[0m\u001b[0;34m(\u001b[0m\u001b[0mnmf_topics_bigram_cv_test\u001b[0m\u001b[0;34m.\u001b[0m\u001b[0mcomponents_\u001b[0m\u001b[0;34m,\u001b[0m \u001b[0mcolumns\u001b[0m\u001b[0;34m=\u001b[0m\u001b[0mbigram_cv\u001b[0m\u001b[0;34m.\u001b[0m\u001b[0mcolumns\u001b[0m\u001b[0;34m)\u001b[0m\u001b[0;34m\u001b[0m\u001b[0;34m\u001b[0m\u001b[0m\n\u001b[0m\u001b[1;32m      2\u001b[0m \u001b[0mcomponents_trigram_cv_df\u001b[0m \u001b[0;34m=\u001b[0m \u001b[0mpd\u001b[0m\u001b[0;34m.\u001b[0m\u001b[0mDataFrame\u001b[0m\u001b[0;34m(\u001b[0m\u001b[0mnmf_topics_trigram_cv_test\u001b[0m\u001b[0;34m.\u001b[0m\u001b[0mcomponents_\u001b[0m\u001b[0;34m,\u001b[0m \u001b[0mcolumns\u001b[0m\u001b[0;34m=\u001b[0m\u001b[0mtrigram_cv\u001b[0m\u001b[0;34m.\u001b[0m\u001b[0mcolumns\u001b[0m\u001b[0;34m)\u001b[0m\u001b[0;34m\u001b[0m\u001b[0;34m\u001b[0m\u001b[0m\n\u001b[1;32m      3\u001b[0m \u001b[0;34m\u001b[0m\u001b[0m\n\u001b[1;32m      4\u001b[0m \u001b[0;32mfor\u001b[0m \u001b[0mtopic\u001b[0m \u001b[0;32min\u001b[0m \u001b[0mrange\u001b[0m\u001b[0;34m(\u001b[0m\u001b[0mcomponents_bigram_cv_df\u001b[0m\u001b[0;34m.\u001b[0m\u001b[0mshape\u001b[0m\u001b[0;34m[\u001b[0m\u001b[0;36m0\u001b[0m\u001b[0;34m]\u001b[0m\u001b[0;34m)\u001b[0m\u001b[0;34m:\u001b[0m\u001b[0;34m\u001b[0m\u001b[0;34m\u001b[0m\u001b[0m\n\u001b[1;32m      5\u001b[0m     \u001b[0mtmp\u001b[0m \u001b[0;34m=\u001b[0m \u001b[0mcomponents_bigram_cv_df\u001b[0m\u001b[0;34m.\u001b[0m\u001b[0miloc\u001b[0m\u001b[0;34m[\u001b[0m\u001b[0mtopic\u001b[0m\u001b[0;34m]\u001b[0m\u001b[0;34m\u001b[0m\u001b[0;34m\u001b[0m\u001b[0m\n",
            "\u001b[0;31mNameError\u001b[0m: name 'nmf_topics_bigram_cv_test' is not defined"
          ]
        }
      ]
    },
    {
      "cell_type": "markdown",
      "source": [
        "Fit TF-IDF Vectorized training sets with NMF"
      ],
      "metadata": {
        "id": "5Ynneitgcqbv"
      }
    },
    {
      "cell_type": "code",
      "source": [
        "nmf_topics_bigram_tf = nmf_model.fit_transform(bigram_tf)\n",
        "nmf_topics_trigram_tf = nmf_model.fit_transform(trigram_tf)"
      ],
      "metadata": {
        "id": "mDWqA25yc-tW"
      },
      "execution_count": null,
      "outputs": []
    },
    {
      "cell_type": "markdown",
      "source": [
        "Transform TF-IDF Vectorized training sets with LDA"
      ],
      "metadata": {
        "id": "0LVZ2SRTcuZT"
      }
    },
    {
      "cell_type": "code",
      "source": [
        "nmf_topics_bigram_tf_test = nmf_model.transform(bigram_tf_test)\n",
        "nmf_topics_trigram_tf_test = nmf_model.transform(trigram_tf_test)"
      ],
      "metadata": {
        "id": "6GJeFVI4dD7T"
      },
      "execution_count": null,
      "outputs": []
    },
    {
      "cell_type": "markdown",
      "source": [
        "Output components from TF-IDF test data"
      ],
      "metadata": {
        "id": "kQkzVkWCanKC"
      }
    },
    {
      "cell_type": "code",
      "source": [
        "components_bigram_tf_df = pd.DataFrame(nmf_topics_bigram_tf_test.components_, columns=bigram_tf.columns)\n",
        "components_trigram_tf_df = pd.DataFrame(nmf_topics_trigram_tf_test.components_, columns=trigram_tf.columns)\n",
        "\n",
        "for topic in range(components_bigram_tf_df.shape[0]):\n",
        "    tmp = components_bigram_tf_df.iloc[topic]\n",
        "    print(f'For topic {topic+1} the words with the highest value are:')\n",
        "    print(tmp.nlargest(10))\n",
        "    print('\\n')\n",
        "\n",
        "for topic in range(components_trigram_tf_df.shape[0]):\n",
        "    tmp = components_trigram_tf_df.iloc[topic]\n",
        "    print(f'For topic {topic+1} the words with the highest value are:')\n",
        "    print(tmp.nlargest(10))\n",
        "    print('\\n')"
      ],
      "metadata": {
        "id": "I_rBbxMBbIw1"
      },
      "execution_count": null,
      "outputs": []
    },
    {
      "cell_type": "markdown",
      "source": [
        "## LDA"
      ],
      "metadata": {
        "id": "PxmrBdS82rlu"
      }
    },
    {
      "cell_type": "markdown",
      "source": [
        "Instantiate model"
      ],
      "metadata": {
        "id": "0mnWTyzWaeL8"
      }
    },
    {
      "cell_type": "code",
      "source": [
        "lda = LatentDirichletAllocation(n_components=5, random_state=42, learning_method=\"batch\")"
      ],
      "metadata": {
        "id": "fsR0NKJ2Z7E_"
      },
      "execution_count": 13,
      "outputs": []
    },
    {
      "cell_type": "markdown",
      "source": [
        "Fit CrossVectorized training sets with LDA"
      ],
      "metadata": {
        "id": "1xu-ALnOakCs"
      }
    },
    {
      "cell_type": "code",
      "source": [
        "lda_topics_bigram_cv = lda.fit_transform(bigram_cv)\n",
        "lda_topics_trigram_cv = lda.fit_transform(trigram_cv)"
      ],
      "metadata": {
        "id": "OHfJo0Ixawlf"
      },
      "execution_count": 14,
      "outputs": []
    },
    {
      "cell_type": "markdown",
      "source": [
        "Tranform CrossVectorized test sets with LDA "
      ],
      "metadata": {
        "id": "leIemhE-aqs1"
      }
    },
    {
      "cell_type": "code",
      "source": [
        "lda_topics_bigram_cv_test = lda.transform(bigram_cv_test)\n",
        "lda_topics_trigram_cv_test = lda.transform(trigram_cv_test)"
      ],
      "metadata": {
        "colab": {
          "base_uri": "https://localhost:8080/",
          "height": 674
        },
        "id": "tP2s5wSebC3D",
        "outputId": "2d70af3d-387a-4f2d-9332-144d48c31bb8"
      },
      "execution_count": 15,
      "outputs": [
        {
          "output_type": "stream",
          "name": "stderr",
          "text": [
            "/usr/local/lib/python3.7/dist-packages/sklearn/base.py:493: FutureWarning: The feature names should match those that were passed during fit. Starting version 1.2, an error will be raised.\n",
            "Feature names unseen at fit time:\n",
            "- absolutely love\n",
            "- abstract games\n",
            "- abstract strategy\n",
            "- action cards\n",
            "- action selection\n",
            "- ...\n",
            "Feature names seen at fit time, yet now missing:\n",
            "- boardgamegeek com thread\n",
            "- cards don t\n",
            "- didn t enjoy\n",
            "- didn t feel\n",
            "- didn t think\n",
            "- ...\n",
            "\n",
            "  warnings.warn(message, FutureWarning)\n"
          ]
        },
        {
          "output_type": "error",
          "ename": "ValueError",
          "evalue": "ignored",
          "traceback": [
            "\u001b[0;31m---------------------------------------------------------------------------\u001b[0m",
            "\u001b[0;31mValueError\u001b[0m                                Traceback (most recent call last)",
            "\u001b[0;32m<ipython-input-15-04057c5f65af>\u001b[0m in \u001b[0;36m<module>\u001b[0;34m()\u001b[0m\n\u001b[0;32m----> 1\u001b[0;31m \u001b[0mlda_topics_bigram_cv_test\u001b[0m \u001b[0;34m=\u001b[0m \u001b[0mlda\u001b[0m\u001b[0;34m.\u001b[0m\u001b[0mtransform\u001b[0m\u001b[0;34m(\u001b[0m\u001b[0mbigram_cv_test\u001b[0m\u001b[0;34m)\u001b[0m\u001b[0;34m\u001b[0m\u001b[0;34m\u001b[0m\u001b[0m\n\u001b[0m\u001b[1;32m      2\u001b[0m \u001b[0mlda_topics_trigram_cv_test\u001b[0m \u001b[0;34m=\u001b[0m \u001b[0mlda\u001b[0m\u001b[0;34m.\u001b[0m\u001b[0mtransform\u001b[0m\u001b[0;34m(\u001b[0m\u001b[0mtrigram_cv_test\u001b[0m\u001b[0;34m)\u001b[0m\u001b[0;34m\u001b[0m\u001b[0;34m\u001b[0m\u001b[0m\n",
            "\u001b[0;32m/usr/local/lib/python3.7/dist-packages/sklearn/decomposition/_lda.py\u001b[0m in \u001b[0;36mtransform\u001b[0;34m(self, X)\u001b[0m\n\u001b[1;32m    707\u001b[0m         \u001b[0mcheck_is_fitted\u001b[0m\u001b[0;34m(\u001b[0m\u001b[0mself\u001b[0m\u001b[0;34m)\u001b[0m\u001b[0;34m\u001b[0m\u001b[0;34m\u001b[0m\u001b[0m\n\u001b[1;32m    708\u001b[0m         X = self._check_non_neg_array(\n\u001b[0;32m--> 709\u001b[0;31m             \u001b[0mX\u001b[0m\u001b[0;34m,\u001b[0m \u001b[0mreset_n_features\u001b[0m\u001b[0;34m=\u001b[0m\u001b[0;32mFalse\u001b[0m\u001b[0;34m,\u001b[0m \u001b[0mwhom\u001b[0m\u001b[0;34m=\u001b[0m\u001b[0;34m\"LatentDirichletAllocation.transform\"\u001b[0m\u001b[0;34m\u001b[0m\u001b[0;34m\u001b[0m\u001b[0m\n\u001b[0m\u001b[1;32m    710\u001b[0m         )\n\u001b[1;32m    711\u001b[0m         \u001b[0mdoc_topic_distr\u001b[0m \u001b[0;34m=\u001b[0m \u001b[0mself\u001b[0m\u001b[0;34m.\u001b[0m\u001b[0m_unnormalized_transform\u001b[0m\u001b[0;34m(\u001b[0m\u001b[0mX\u001b[0m\u001b[0;34m)\u001b[0m\u001b[0;34m\u001b[0m\u001b[0;34m\u001b[0m\u001b[0m\n",
            "\u001b[0;32m/usr/local/lib/python3.7/dist-packages/sklearn/decomposition/_lda.py\u001b[0m in \u001b[0;36m_check_non_neg_array\u001b[0;34m(self, X, reset_n_features, whom)\u001b[0m\n\u001b[1;32m    538\u001b[0m \u001b[0;34m\u001b[0m\u001b[0m\n\u001b[1;32m    539\u001b[0m         \"\"\"\n\u001b[0;32m--> 540\u001b[0;31m         \u001b[0mX\u001b[0m \u001b[0;34m=\u001b[0m \u001b[0mself\u001b[0m\u001b[0;34m.\u001b[0m\u001b[0m_validate_data\u001b[0m\u001b[0;34m(\u001b[0m\u001b[0mX\u001b[0m\u001b[0;34m,\u001b[0m \u001b[0mreset\u001b[0m\u001b[0;34m=\u001b[0m\u001b[0mreset_n_features\u001b[0m\u001b[0;34m,\u001b[0m \u001b[0maccept_sparse\u001b[0m\u001b[0;34m=\u001b[0m\u001b[0;34m\"csr\"\u001b[0m\u001b[0;34m)\u001b[0m\u001b[0;34m\u001b[0m\u001b[0;34m\u001b[0m\u001b[0m\n\u001b[0m\u001b[1;32m    541\u001b[0m         \u001b[0mcheck_non_negative\u001b[0m\u001b[0;34m(\u001b[0m\u001b[0mX\u001b[0m\u001b[0;34m,\u001b[0m \u001b[0mwhom\u001b[0m\u001b[0;34m)\u001b[0m\u001b[0;34m\u001b[0m\u001b[0;34m\u001b[0m\u001b[0m\n\u001b[1;32m    542\u001b[0m         \u001b[0;32mreturn\u001b[0m \u001b[0mX\u001b[0m\u001b[0;34m\u001b[0m\u001b[0;34m\u001b[0m\u001b[0m\n",
            "\u001b[0;32m/usr/local/lib/python3.7/dist-packages/sklearn/base.py\u001b[0m in \u001b[0;36m_validate_data\u001b[0;34m(self, X, y, reset, validate_separately, **check_params)\u001b[0m\n\u001b[1;32m    583\u001b[0m \u001b[0;34m\u001b[0m\u001b[0m\n\u001b[1;32m    584\u001b[0m         \u001b[0;32mif\u001b[0m \u001b[0;32mnot\u001b[0m \u001b[0mno_val_X\u001b[0m \u001b[0;32mand\u001b[0m \u001b[0mcheck_params\u001b[0m\u001b[0;34m.\u001b[0m\u001b[0mget\u001b[0m\u001b[0;34m(\u001b[0m\u001b[0;34m\"ensure_2d\"\u001b[0m\u001b[0;34m,\u001b[0m \u001b[0;32mTrue\u001b[0m\u001b[0;34m)\u001b[0m\u001b[0;34m:\u001b[0m\u001b[0;34m\u001b[0m\u001b[0;34m\u001b[0m\u001b[0m\n\u001b[0;32m--> 585\u001b[0;31m             \u001b[0mself\u001b[0m\u001b[0;34m.\u001b[0m\u001b[0m_check_n_features\u001b[0m\u001b[0;34m(\u001b[0m\u001b[0mX\u001b[0m\u001b[0;34m,\u001b[0m \u001b[0mreset\u001b[0m\u001b[0;34m=\u001b[0m\u001b[0mreset\u001b[0m\u001b[0;34m)\u001b[0m\u001b[0;34m\u001b[0m\u001b[0;34m\u001b[0m\u001b[0m\n\u001b[0m\u001b[1;32m    586\u001b[0m \u001b[0;34m\u001b[0m\u001b[0m\n\u001b[1;32m    587\u001b[0m         \u001b[0;32mreturn\u001b[0m \u001b[0mout\u001b[0m\u001b[0;34m\u001b[0m\u001b[0;34m\u001b[0m\u001b[0m\n",
            "\u001b[0;32m/usr/local/lib/python3.7/dist-packages/sklearn/base.py\u001b[0m in \u001b[0;36m_check_n_features\u001b[0;34m(self, X, reset)\u001b[0m\n\u001b[1;32m    399\u001b[0m         \u001b[0;32mif\u001b[0m \u001b[0mn_features\u001b[0m \u001b[0;34m!=\u001b[0m \u001b[0mself\u001b[0m\u001b[0;34m.\u001b[0m\u001b[0mn_features_in_\u001b[0m\u001b[0;34m:\u001b[0m\u001b[0;34m\u001b[0m\u001b[0;34m\u001b[0m\u001b[0m\n\u001b[1;32m    400\u001b[0m             raise ValueError(\n\u001b[0;32m--> 401\u001b[0;31m                 \u001b[0;34mf\"X has {n_features} features, but {self.__class__.__name__} \"\u001b[0m\u001b[0;34m\u001b[0m\u001b[0;34m\u001b[0m\u001b[0m\n\u001b[0m\u001b[1;32m    402\u001b[0m                 \u001b[0;34mf\"is expecting {self.n_features_in_} features as input.\"\u001b[0m\u001b[0;34m\u001b[0m\u001b[0;34m\u001b[0m\u001b[0m\n\u001b[1;32m    403\u001b[0m             )\n",
            "\u001b[0;31mValueError\u001b[0m: X has 515 features, but LatentDirichletAllocation is expecting 44 features as input."
          ]
        }
      ]
    },
    {
      "cell_type": "markdown",
      "source": [
        "Fit TF-IDF Vectorized training sets with LDA"
      ],
      "metadata": {
        "id": "ybLOIP2abGQM"
      }
    },
    {
      "cell_type": "code",
      "source": [
        "lda_topics_bigram_tf = lda.fit_transform(bigram_tf)\n",
        "lda_topics_trigram_tf = lda.fit_transform(trigram_tf)"
      ],
      "metadata": {
        "id": "KYBYgew2bPkA"
      },
      "execution_count": null,
      "outputs": []
    },
    {
      "cell_type": "markdown",
      "source": [
        "Transform TF-IDF Vectorized test sets with LDA"
      ],
      "metadata": {
        "id": "ppWEjwVdbLQe"
      }
    },
    {
      "cell_type": "code",
      "source": [
        "lda_topics_bigram_tf_test = lda.transform(bigram_tf_test)\n",
        "lda_topics_trigram_tf_test = lda.transform(trigram_tf_test)"
      ],
      "metadata": {
        "id": "g7OWz4mLbQZV"
      },
      "execution_count": null,
      "outputs": []
    },
    {
      "cell_type": "markdown",
      "source": [
        "# Summary and Conclusions"
      ],
      "metadata": {
        "id": "jgBR0fic20Qb"
      }
    }
  ]
}
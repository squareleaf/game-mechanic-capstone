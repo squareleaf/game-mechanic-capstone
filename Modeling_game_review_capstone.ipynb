{
  "nbformat": 4,
  "nbformat_minor": 0,
  "metadata": {
    "colab": {
      "name": "Modeling - game review capstone.ipynb",
      "provenance": [],
      "machine_shape": "hm"
    },
    "kernelspec": {
      "name": "python3",
      "display_name": "Python 3"
    },
    "language_info": {
      "name": "python"
    }
  },
  "cells": [
    {
      "cell_type": "markdown",
      "source": [
        "# Modeling step"
      ],
      "metadata": {
        "id": "oP-1O_le2BwA"
      }
    },
    {
      "cell_type": "markdown",
      "source": [
        "# Import tools"
      ],
      "metadata": {
        "id": "Ul7kTU9-2EVv"
      }
    },
    {
      "cell_type": "code",
      "source": [
        "import pandas as pd\n",
        "import numpy as np\n",
        "\n",
        "from sklearn.metrics import pairwise_distances\n",
        "from sklearn.cluster import KMeans"
      ],
      "metadata": {
        "id": "OnNwWgj8FbCZ"
      },
      "execution_count": 2,
      "outputs": []
    },
    {
      "cell_type": "markdown",
      "source": [
        "# Import data"
      ],
      "metadata": {
        "id": "xCykZTSZ2Gm_"
      }
    },
    {
      "cell_type": "code",
      "source": [
        "# game_ratings = pd.read_csv('/content/drive/MyDrive/Springboard DS/data/cleaned_game_ratings.csv', index_col=0)\n",
        "\n",
        "# From Count Vectorizer\n",
        "bigram_cv = pd.read_csv('/content/drive/MyDrive/Springboard DS/data/bigram_cv.csv')"
      ],
      "metadata": {
        "id": "YuDyKizx28lH"
      },
      "execution_count": null,
      "outputs": []
    },
    {
      "cell_type": "code",
      "source": [
        "trigram_cv = pd.read_csv('/content/drive/MyDrive/Springboard DS/data/trigram_cv.csv')"
      ],
      "metadata": {
        "id": "xy3-4LS-YflV"
      },
      "execution_count": null,
      "outputs": []
    },
    {
      "cell_type": "code",
      "source": [
        "# From TF-IDF Vectorizer\n",
        "bigram_tf = pd.read_csv('/content/drive/MyDrive/Springboard DS/data/bigram_tf.csv')"
      ],
      "metadata": {
        "id": "8WNUpH8ZYfaG"
      },
      "execution_count": null,
      "outputs": []
    },
    {
      "cell_type": "code",
      "source": [
        "trigram_tf = pd.read_csv('/content/drive/MyDrive/Springboard DS/data/trigram_tf.csv')"
      ],
      "metadata": {
        "id": "ZQuB8LSrYfKO"
      },
      "execution_count": null,
      "outputs": []
    },
    {
      "cell_type": "markdown",
      "source": [
        "# Distance measures"
      ],
      "metadata": {
        "id": "cJKLBUS22Iff"
      }
    },
    {
      "cell_type": "markdown",
      "source": [
        "## Binary matrix"
      ],
      "metadata": {
        "id": "ROyPK9cI2Qcj"
      }
    },
    {
      "cell_type": "markdown",
      "source": [
        "### Hamming distance"
      ],
      "metadata": {
        "id": "ZgYTTsf22enT"
      }
    },
    {
      "cell_type": "code",
      "source": [
        "hamming_bigram_cv = pairwise_distances(X=bigram_cv, metric='hamming')\n",
        "hamming_trigram_cv = pairwise_distances(X=trigram_cv, metric='hamming')\n",
        "\n",
        "hamming_bigram_tf = pairwise_distances(X=bigram_tf, metric='hamming')\n",
        "hamming_trigram_tf = pairwise_distances(X=trigram_tf, metric='hamming')"
      ],
      "metadata": {
        "id": "XMOcZjQuFm_A"
      },
      "execution_count": null,
      "outputs": []
    },
    {
      "cell_type": "markdown",
      "source": [
        "### Jaccard index"
      ],
      "metadata": {
        "id": "1u9CWqwG2hDG"
      }
    },
    {
      "cell_type": "code",
      "source": [
        "jaccard_bigram_cv = pairwise_distances(X=bigram_cv, metric='jaccard')\n",
        "jaccard_trigram_cv = pairwise_distances(X=trigram_cv, metric='jaccard')\n",
        "\n",
        "jaccard_bigram_tf = pairwise_distances(X=bigram_tf, metric='jaccard')\n",
        "jaccard_trigram_tf = pairwise_distances(X=trigram_tf, metric='jaccard')"
      ],
      "metadata": {
        "id": "ghAOjpesJr4B"
      },
      "execution_count": null,
      "outputs": []
    },
    {
      "cell_type": "markdown",
      "source": [
        "## Continuous matrix"
      ],
      "metadata": {
        "id": "Dc9usdpw2av8"
      }
    },
    {
      "cell_type": "markdown",
      "source": [
        "### Euclidean distance"
      ],
      "metadata": {
        "id": "Dz0x9D_y2jxD"
      }
    },
    {
      "cell_type": "code",
      "source": [
        "eucl_bigram_cv = pairwise_distances(X=bigram_cv, metric='euclidean')\n",
        "eucl_trigram_cv = pairwise_distances(X=trigram_cv, metric='euclidean')\n",
        "\n",
        "eucl_bigram_tf = pairwise_distances(X=bigram_tf, metric='euclidean')\n",
        "eucl_trigram_tf = pairwise_distances(X=trigram_tf, metric='euclidean')"
      ],
      "metadata": {
        "id": "tZFgesg4o-Ph"
      },
      "execution_count": null,
      "outputs": []
    },
    {
      "cell_type": "markdown",
      "source": [
        "### Cosine similarity"
      ],
      "metadata": {
        "id": "05f1SmB_2kJb"
      }
    },
    {
      "cell_type": "code",
      "source": [
        "cosine_bigram_cv = pairwise_distances(X=bigram_cv, metric='cosine')\n",
        "cosine_trigram_cv = pairwise_distances(X=trigram_cv, metric='cosine')\n",
        "\n",
        "cosine_bigram_tf = pairwise_distances(X=bigram_tf, metric='cosine')\n",
        "cosine_trigram_tf = pairwise_distances(X=trigram_tf, metric='cosine')"
      ],
      "metadata": {
        "id": "YX8DHKLOpQ8z"
      },
      "execution_count": null,
      "outputs": []
    },
    {
      "cell_type": "markdown",
      "source": [
        "# Clustering: K-Means"
      ],
      "metadata": {
        "id": "4zDMCHd_2K4g"
      }
    },
    {
      "cell_type": "markdown",
      "source": [
        "Set up KMeans, calculate clusters from labels, fit to training data, and predict y_pred for each"
      ],
      "metadata": {
        "id": "Pxhe7O5_rKYr"
      }
    },
    {
      "cell_type": "code",
      "source": [
        "true_k_bigram_cv = np.unique(bigram_cv.columns).shape[0]\n",
        "true_k_trigram_cv = np.unique(trigram_cv.columns).shape[0]\n",
        "\n",
        "true_k_bigram_tf = np.unique(bigram_tf.columns).shape[0]\n",
        "true_k_trigram_cv = np.unique(trigram_tf.columns).shape[0]\n",
        "# Pulled the concept for true_k from: https://scikit-learn.org/stable/auto_examples/text/plot_document_clustering.html#sphx-glr-auto-examples-text-plot-document-clustering-py\n",
        "\n",
        "bigram_cv_kmeans_pred = KMeans(n_clusters=true_k_bigram_cv, random_state=42, max_iter=50).fit_predict(bigram_cv)\n",
        "trigram_cv_kmeans_pred = KMeans(n_clusters=true_k_trigram_cv, random_state=42, max_iter=50).fit_predict(trigram_cv)\n",
        "\n",
        "bigram_tf_kmeans_pred = KMeans(n_clusters=true_k_bigram_tf, random_state=42, max_iter=50).fit_predict(bigram_tf)\n",
        "trigram_tf_kmeans_pred = KMeans(n_clusters=true_k_trigram_tf, random_state=42, max_iter=50).fit_predict(trigram_tf)"
      ],
      "metadata": {
        "id": "X0RQsexbp__5"
      },
      "execution_count": null,
      "outputs": []
    },
    {
      "cell_type": "markdown",
      "source": [
        "Metrics from running KMeans"
      ],
      "metadata": {
        "id": "YP8UwNP8TST4"
      }
    },
    {
      "cell_type": "code",
      "source": [
        "print(\"Bigrams - CountVectorizer\")\n",
        "print(\"Homogeneity: %0.3f\" % metrics.homogeneity_score(bigram_cv.columns, bigram_cv_kmeans_pred.labels_))\n",
        "print(\"Completeness: %0.3f\" % metrics.completeness_score(bigram_cv.columns, bigram_cv_kmeans_pred.labels_))\n",
        "print(\"V-measure: %0.3f\" % metrics.v_measure_score(bigram_cv.columns, bigram_cv_kmeans_pred.labels_))\n",
        "print(\"Adjusted Rand-Index: %.3f\" % metrics.adjusted_rand_score(bigram_cv.columns, bigram_cv_kmeans_pred.labels_))\n",
        "\n",
        "print()\n",
        "print(\"Trigrams - CountVectorizer\")\n",
        "print(\"Homogeneity: %0.3f\" % metrics.homogeneity_score(trigram_cv.columns, trigram_cv_kmeans_pred.labels_))\n",
        "print(\"Completeness: %0.3f\" % metrics.completeness_score(trigram_cv.columns, trigram_cv_kmeans_pred.labels_))\n",
        "print(\"V-measure: %0.3f\" % metrics.v_measure_score(trigram_cv.columns, trigram_cv_kmeans_pred.labels_))\n",
        "print(\"Adjusted Rand-Index: %.3f\" % metrics.adjusted_rand_score(trigram_cv.columns, trigram_cv_kmeans_pred.labels_))\n",
        "\n",
        "print()\n",
        "print(\"Bigrams - TF-IDF Vectorizer\")\n",
        "print(\"Homogeneity: %0.3f\" % metrics.homogeneity_score(bigram_tf.columns, bigram_tf_kmeans_pred.labels_))\n",
        "print(\"Completeness: %0.3f\" % metrics.completeness_score(bigram_tf.columns, bigram_tf_kmeans_pred.labels_))\n",
        "print(\"V-measure: %0.3f\" % metrics.v_measure_score(bigram_tf.columns, bigram_tf_kmeans_pred.labels_))\n",
        "print(\"Adjusted Rand-Index: %.3f\" % metrics.adjusted_rand_score(bigram_tf.columns, bigram_tf_kmeans_pred.labels_))\n",
        "\n",
        "print()\n",
        "print(\"Trigrams - TF-IDF Vectorizer\")\n",
        "print(\"Homogeneity: %0.3f\" % metrics.homogeneity_score(trigram_tf.columns, trigram_tf_kmeans_pred.labels_))\n",
        "print(\"Completeness: %0.3f\" % metrics.completeness_score(trigram_tf.columns, trigram_tf_kmeans_pred.labels_))\n",
        "print(\"V-measure: %0.3f\" % metrics.v_measure_score(trigram_tf.columns, trigram_tf_kmeans_pred.labels_))\n",
        "print(\"Adjusted Rand-Index: %.3f\" % metrics.adjusted_rand_score(trigram_tf.columns, trigram_tf_kmeans_pred.labels_))"
      ],
      "metadata": {
        "id": "h5UVBaRQTWBK"
      },
      "execution_count": null,
      "outputs": []
    },
    {
      "cell_type": "markdown",
      "source": [
        "Top terms per cluster"
      ],
      "metadata": {
        "id": "gzHxOJasVHvV"
      }
    },
    {
      "cell_type": "code",
      "source": [
        "print(\"Top terms: bigrams from CountVectorizer\")\n",
        "bi_cv_order_centroids = bigram_cv_kmeans_pred.cluster_centers_.argsort()[:, ::-1]\n",
        "\n",
        "for i in range(true_k_bigram_cv):\n",
        "    print(\"Cluster %d:\" % i, end=\"\")\n",
        "    for ind in bi_cv_order_centroids[i, :10]:\n",
        "        print(\" %s\" % bigram_cv.columns[ind], end=\"\")\n",
        "    print()\n",
        "\n",
        "\n",
        "print(\"Top terms: trigrams from CountVectorizer\")\n",
        "tri_cv_order_centroids = trigram_cv_kmeans_pred.cluster_centers_.argsort()[:, ::-1]\n",
        "\n",
        "for i in range(true_k_trigram_cv):\n",
        "    print(\"Cluster %d:\" % i, end=\"\")\n",
        "    for ind in tri_cv_order_centroids[i, :10]:\n",
        "        print(\" %s\" % trigram_cv.columns[ind], end=\"\")\n",
        "    print()\n",
        "\n",
        "\n",
        "print(\"Top terms: bigrams from TF-IDF Vectorizer\")\n",
        "bi_tf_order_centroids = bigram_tf_kmeans_pred.cluster_centers_.argsort()[:, ::-1]\n",
        "\n",
        "for i in range(true_k_bigram_tf):\n",
        "    print(\"Cluster %d:\" % i, end=\"\")\n",
        "    for ind in bi_tf_order_centroids[i, :10]:\n",
        "        print(\" %s\" % bigram_tf.columns[ind], end=\"\")\n",
        "    print()\n",
        "\n",
        "\n",
        "print(\"Top terms: bigrams from TF-IDF Vectorizer\")\n",
        "tri_tf_order_centroids = trigram_tf_kmeans_pred.cluster_centers_.argsort()[:, ::-1]\n",
        "\n",
        "for i in range(true_k_trigram_tf):\n",
        "    print(\"Cluster %d:\" % i, end=\"\")\n",
        "    for ind in tri_tf_order_centroids[i, :10]:\n",
        "        print(\" %s\" % trigram_tf.columns[ind], end=\"\")\n",
        "    print()"
      ],
      "metadata": {
        "id": "8YoFRweYVG8X"
      },
      "execution_count": null,
      "outputs": []
    },
    {
      "cell_type": "markdown",
      "source": [
        "# Topic modeling"
      ],
      "metadata": {
        "id": "N1UjajT82NbI"
      }
    },
    {
      "cell_type": "markdown",
      "source": [
        "## NMF"
      ],
      "metadata": {
        "id": "neOCsj6c2rxE"
      }
    },
    {
      "cell_type": "markdown",
      "source": [
        "## LDA"
      ],
      "metadata": {
        "id": "PxmrBdS82rlu"
      }
    },
    {
      "cell_type": "markdown",
      "source": [
        "# Summary and Conclusions"
      ],
      "metadata": {
        "id": "jgBR0fic20Qb"
      }
    }
  ]
}